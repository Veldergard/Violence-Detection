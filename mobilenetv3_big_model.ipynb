{
 "cells": [
  {
   "cell_type": "code",
   "metadata": {
    "execution": {
     "iopub.execute_input": "2021-06-28T21:12:08.176151Z",
     "iopub.status.busy": "2021-06-28T21:12:08.175772Z",
     "iopub.status.idle": "2021-06-28T21:12:08.188567Z",
     "shell.execute_reply": "2021-06-28T21:12:08.187647Z",
     "shell.execute_reply.started": "2021-06-28T21:12:08.176065Z"
    },
    "id": "YMm4qVv5qtGE",
    "outputId": "46034115-6222-4708-e9ef-f7f407130943",
    "ExecuteTime": {
     "end_time": "2025-05-04T05:31:40.552997Z",
     "start_time": "2025-05-04T05:31:38.824583Z"
    }
   },
   "source": [
    "from IPython.display import clear_output\n",
    "from numpy import max, min\n",
    "\n",
    "from aggr_utils import print_system_info\n",
    "import tensorflow as tf\n",
    "import imgaug.augmenters as iaa\n",
    "from tqdm import tqdm\n",
    "from sklearn.model_selection import StratifiedShuffleSplit\n",
    "import cv2\n",
    "import os\n",
    "import numpy as np\n",
    "import matplotlib\n",
    "from keras.api.layers import Input\n",
    "from keras.api.models import Model\n",
    "from keras.api.layers import Dropout, Flatten, Dense\n",
    "import matplotlib.pyplot as plt\n",
    "import datetime\n",
    "\n",
    "from keras import regularizers\n",
    "from keras.src.applications.mobilenet_v3 import MobileNetV3Large, preprocess_input\n",
    "\n",
    "from keras.api.callbacks import (\n",
    "    Callback,\n",
    "    ModelCheckpoint,\n",
    "    LearningRateScheduler,\n",
    "    TensorBoard,\n",
    "    EarlyStopping,\n",
    "    ReduceLROnPlateau\n",
    ")\n",
    "\n",
    "import seaborn as sns\n",
    "from sklearn import metrics\n",
    "from sklearn.metrics import (\n",
    "    roc_curve,\n",
    "    roc_auc_score,\n",
    "    accuracy_score,\n",
    "    classification_report,\n",
    "    confusion_matrix\n",
    ")\n",
    "import math"
   ],
   "outputs": [],
   "execution_count": 1
  },
  {
   "metadata": {
    "ExecuteTime": {
     "end_time": "2025-05-04T05:31:40.644247Z",
     "start_time": "2025-05-04T05:31:40.640861Z"
    }
   },
   "cell_type": "code",
   "source": [
    "print_system_info()\n",
    "seed = 73\n",
    "IMG_SIZE = 224\n",
    "COLOR_CHANNELS = 3\n",
    "FRAMES_PER_SECOND = 2"
   ],
   "outputs": [
    {
     "name": "stdout",
     "output_type": "stream",
     "text": [
      "Operating System: Windows-10-10.0.26100-SP0\n",
      "Python version: 3.11.9\n",
      "Tensorflow version: 2.19.0\n"
     ]
    }
   ],
   "execution_count": 2
  },
  {
   "cell_type": "code",
   "metadata": {
    "execution": {
     "iopub.execute_input": "2021-06-28T21:12:12.539247Z",
     "iopub.status.busy": "2021-06-28T21:12:12.538912Z",
     "iopub.status.idle": "2021-06-28T21:12:18.360385Z",
     "shell.execute_reply": "2021-06-28T21:12:18.359448Z",
     "shell.execute_reply.started": "2021-06-28T21:12:12.539218Z"
    },
    "id": "m77ifGzHqtBg",
    "outputId": "cccebfce-fcbf-4a7d-802b-4de91b6e4772",
    "ExecuteTime": {
     "end_time": "2025-05-04T05:31:40.708871Z",
     "start_time": "2025-05-04T05:31:40.647251Z"
    }
   },
   "source": [
    "tf.random.set_seed(seed)\n",
    "TPU_INIT = False\n",
    "\n",
    "if TPU_INIT:\n",
    "    try:\n",
    "        tpu = tf.distribute.cluster_resolver.TPUClusterResolver.connect()\n",
    "        tpu_strategy = tf.distribute.experimental.TPUStrategy(tpu)\n",
    "\n",
    "    except ValueError:\n",
    "        raise BaseException('ERROR: Not connected to a TPU runtime!')\n",
    "else:\n",
    "    !nvidia-smi\n"
   ],
   "outputs": [
    {
     "name": "stdout",
     "output_type": "stream",
     "text": [
      "Sun May  4 08:31:40 2025       \n",
      "+-----------------------------------------------------------------------------------------+\n",
      "| NVIDIA-SMI 576.02                 Driver Version: 576.02         CUDA Version: 12.9     |\n",
      "|-----------------------------------------+------------------------+----------------------+\n",
      "| GPU  Name                  Driver-Model | Bus-Id          Disp.A | Volatile Uncorr. ECC |\n",
      "| Fan  Temp   Perf          Pwr:Usage/Cap |           Memory-Usage | GPU-Util  Compute M. |\n",
      "|                                         |                        |               MIG M. |\n",
      "|=========================================+========================+======================|\n",
      "|   0  NVIDIA GeForce RTX 4060 Ti   WDDM  |   00000000:01:00.0  On |                  N/A |\n",
      "|  0%   29C    P8              8W /  160W |    1321MiB /   8188MiB |     39%      Default |\n",
      "|                                         |                        |                  N/A |\n",
      "+-----------------------------------------+------------------------+----------------------+\n",
      "                                                                                         \n",
      "+-----------------------------------------------------------------------------------------+\n",
      "| Processes:                                                                              |\n",
      "|  GPU   GI   CI              PID   Type   Process name                        GPU Memory |\n",
      "|        ID   ID                                                               Usage      |\n",
      "|=========================================================================================|\n",
      "|    0   N/A  N/A            1448    C+G   C:\\Windows\\explorer.exe               N/A      |\n",
      "|    0   N/A  N/A            6788    C+G   ...__kzh8wxbdkxb8p\\DCv2\\DCv2.exe      N/A      |\n",
      "|    0   N/A  N/A            7220    C+G   ...onsoftware\\RadeonSoftware.exe      N/A      |\n",
      "|    0   N/A  N/A            7492    C+G   ...y\\StartMenuExperienceHost.exe      N/A      |\n",
      "|    0   N/A  N/A            8764    C+G   ..._cw5n1h2txyewy\\SearchHost.exe      N/A      |\n",
      "|    0   N/A  N/A            9496    C+G   ...App_cw5n1h2txyewy\\LockApp.exe      N/A      |\n",
      "|    0   N/A  N/A           10284    C+G   ...sional\\jbr\\bin\\cef_server.exe      N/A      |\n",
      "|    0   N/A  N/A           14704    C+G   ...Chrome\\Application\\chrome.exe      N/A      |\n",
      "|    0   N/A  N/A           15580    C+G   ...5n1h2txyewy\\TextInputHost.exe      N/A      |\n",
      "|    0   N/A  N/A           16728    C+G   ....0.3179.98\\msedgewebview2.exe      N/A      |\n",
      "|    0   N/A  N/A           17520    C+G   ...em32\\ApplicationFrameHost.exe      N/A      |\n",
      "|    0   N/A  N/A           17620    C+G   ...8bbwe\\PhoneExperienceHost.exe      N/A      |\n",
      "|    0   N/A  N/A           17864    C+G   ...ntrolPanel\\SystemSettings.exe      N/A      |\n",
      "|    0   N/A  N/A           20680    C+G   ...xyewy\\ShellExperienceHost.exe      N/A      |\n",
      "|    0   N/A  N/A           22192    C+G   ...Telegram Desktop\\Telegram.exe      N/A      |\n",
      "|    0   N/A  N/A           24240    C+G   ...indows\\System32\\ShellHost.exe      N/A      |\n",
      "+-----------------------------------------------------------------------------------------+\n"
     ]
    }
   ],
   "execution_count": 3
  },
  {
   "cell_type": "code",
   "metadata": {
    "execution": {
     "iopub.execute_input": "2021-06-28T21:12:26.392432Z",
     "iopub.status.busy": "2021-06-28T21:12:26.392057Z",
     "iopub.status.idle": "2021-06-28T21:12:27.147421Z",
     "shell.execute_reply": "2021-06-28T21:12:27.146411Z",
     "shell.execute_reply.started": "2021-06-28T21:12:26.392397Z"
    },
    "id": "DwRUpYt5qs1l",
    "ExecuteTime": {
     "end_time": "2025-05-04T05:31:40.715183Z",
     "start_time": "2025-05-04T05:31:40.712923Z"
    }
   },
   "source": "PROJECT_DIR = '../datasets/violence'",
   "outputs": [],
   "execution_count": 4
  },
  {
   "cell_type": "markdown",
   "metadata": {
    "id": "xelnEP2OsH_7"
   },
   "source": [
    "## **Preprocessing**\n",
    "+ **Getting frames form video**\n",
    "+ **some image argumentations**"
   ]
  },
  {
   "cell_type": "code",
   "metadata": {
    "execution": {
     "iopub.execute_input": "2021-06-28T21:13:35.503988Z",
     "iopub.status.busy": "2021-06-28T21:13:35.503640Z",
     "iopub.status.idle": "2021-06-28T21:13:37.178990Z",
     "shell.execute_reply": "2021-06-28T21:13:37.178190Z",
     "shell.execute_reply.started": "2021-06-28T21:13:35.503957Z"
    },
    "id": "VNftx0E_sH_9",
    "ExecuteTime": {
     "end_time": "2025-05-04T05:31:40.726773Z",
     "start_time": "2025-05-04T05:31:40.722567Z"
    }
   },
   "source": [
    "def video_to_frames(video):\n",
    "    vidcap = cv2.VideoCapture(video)\n",
    "\n",
    "    frame_rate = vidcap.get(cv2.CAP_PROP_FPS)\n",
    "    frames_to_skip = int(frame_rate // FRAMES_PER_SECOND)\n",
    "    count = 0\n",
    "\n",
    "    ImageFrames = []\n",
    "    while vidcap.isOpened():\n",
    "        frame_id = vidcap.get(1)\n",
    "        success, image = vidcap.read()\n",
    "\n",
    "        if success:\n",
    "            if frame_id % frames_to_skip == 0:\n",
    "                flip = iaa.Fliplr(1.0)\n",
    "                zoom = iaa.Affine(scale=1.3)\n",
    "                random_brightness = iaa.Multiply((1, 1.3))\n",
    "                rotate = iaa.Affine(rotate=(-25, 25))\n",
    "\n",
    "                image_aug = flip(image=image)\n",
    "                image_aug = random_brightness(image=image_aug)\n",
    "                image_aug = zoom(image=image_aug)\n",
    "                image_aug = rotate(image=image_aug)\n",
    "\n",
    "                rgb_img = cv2.cvtColor(image_aug, cv2.COLOR_BGR2RGB)\n",
    "                resized = cv2.resize(rgb_img, (IMG_SIZE, IMG_SIZE))\n",
    "                ImageFrames.append(resized)\n",
    "\n",
    "            count += 1\n",
    "        else:\n",
    "            break\n",
    "\n",
    "    vidcap.release()\n",
    "\n",
    "    return ImageFrames"
   ],
   "outputs": [],
   "execution_count": 5
  },
  {
   "cell_type": "code",
   "metadata": {
    "execution": {
     "iopub.execute_input": "2021-06-28T21:13:41.414231Z",
     "iopub.status.busy": "2021-06-28T21:13:41.413870Z",
     "iopub.status.idle": "2021-06-28T21:17:29.584414Z",
     "shell.execute_reply": "2021-06-28T21:17:29.581822Z",
     "shell.execute_reply.started": "2021-06-28T21:13:41.414198Z"
    },
    "id": "VtjFbXZKsH_-",
    "outputId": "26ea2589-1b55-47d5-947c-7bb5bd21f999",
    "ExecuteTime": {
     "end_time": "2025-05-04T05:33:15.993014Z",
     "start_time": "2025-05-04T05:31:40.736520Z"
    }
   },
   "source": [
    "video_data_dir = os.path.join(PROJECT_DIR, 'Real Life Violence Dataset')\n",
    "\n",
    "print('Доступно \\n{} видео с агрессией \\n{} видео без агрессии'.format(\n",
    "    len(os.listdir(video_data_dir + '/Violence')),\n",
    "    len(os.listdir(video_data_dir + '/NonViolence'))))\n",
    "\n",
    "X_original = []\n",
    "y_original = []\n",
    "\n",
    "# Выбор случайных 700 видео для решения проблем с памятью\n",
    "# 350 с агрессией и 350 без\n",
    "VIDEOS_PER_CLASS = 500\n",
    "CLASSES = [\"NonViolence\", \"Violence\"]\n",
    "\n",
    "for category in CLASSES:\n",
    "    path = os.path.join(video_data_dir, category)\n",
    "    class_num = CLASSES.index(category)\n",
    "    for i, video in enumerate(tqdm(os.listdir(path)[0:VIDEOS_PER_CLASS])):\n",
    "        frames = video_to_frames(os.path.join(path, video))\n",
    "        for j, frame in enumerate(frames):\n",
    "            X_original.append(frame)\n",
    "            y_original.append(class_num)"
   ],
   "outputs": [
    {
     "name": "stdout",
     "output_type": "stream",
     "text": [
      "Доступно \n",
      "1000 видео с агрессией \n",
      "1000 видео без агрессии\n"
     ]
    },
    {
     "name": "stderr",
     "output_type": "stream",
     "text": [
      "100%|██████████| 500/500 [00:30<00:00, 16.43it/s]\n",
      "100%|██████████| 500/500 [01:04<00:00,  7.71it/s]\n"
     ]
    }
   ],
   "execution_count": 6
  },
  {
   "cell_type": "code",
   "metadata": {
    "execution": {
     "iopub.execute_input": "2021-06-28T21:18:34.638320Z",
     "iopub.status.busy": "2021-06-28T21:18:34.637958Z",
     "iopub.status.idle": "2021-06-28T21:18:34.864211Z",
     "shell.execute_reply": "2021-06-28T21:18:34.863222Z",
     "shell.execute_reply.started": "2021-06-28T21:18:34.638286Z"
    },
    "id": "0Knwy2OjsH__",
    "outputId": "53453a2c-9bc7-4210-8736-b89ce5819e15",
    "ExecuteTime": {
     "end_time": "2025-05-04T05:33:22.688157Z",
     "start_time": "2025-05-04T05:33:16.005893Z"
    }
   },
   "source": [
    "X_original = np.array(X_original).reshape(-1, IMG_SIZE * IMG_SIZE * 3)\n",
    "y_original = np.array(y_original)\n",
    "print(len(X_original))\n",
    "\n",
    "stratified_sample = StratifiedShuffleSplit(n_splits=2, test_size=0.3, random_state=seed)\n",
    "\n",
    "for train_index, test_index in stratified_sample.split(X_original, y_original):\n",
    "    X_train, X_test = X_original[train_index], X_original[test_index]\n",
    "    y_train, y_test = y_original[train_index], y_original[test_index]\n",
    "\n",
    "\n",
    "def preprocess_input(x):\n",
    "    x = x.reshape(-1, IMG_SIZE, IMG_SIZE, COLOR_CHANNELS) / 255.0\n",
    "    # Модель ожидает на вход от -1.0 до 1.0\n",
    "    return (x - 0.5) * 2.0\n",
    "\n",
    "\n",
    "X_train_nn = preprocess_input(X_train)\n",
    "X_test_nn = preprocess_input(X_test)"
   ],
   "outputs": [
    {
     "name": "stdout",
     "output_type": "stream",
     "text": [
      "10919\n"
     ]
    }
   ],
   "execution_count": 7
  },
  {
   "cell_type": "markdown",
   "metadata": {
    "id": "fvmfQMM0p46i"
   },
   "source": [
    "## **Model Training**"
   ]
  },
  {
   "cell_type": "code",
   "metadata": {
    "execution": {
     "iopub.execute_input": "2021-06-28T21:18:46.747492Z",
     "iopub.status.busy": "2021-06-28T21:18:46.747115Z",
     "iopub.status.idle": "2021-06-28T21:18:56.074221Z",
     "shell.execute_reply": "2021-06-28T21:18:56.073342Z",
     "shell.execute_reply.started": "2021-06-28T21:18:46.747463Z"
    },
    "id": "loeXLm9-sIAB"
   },
   "source": "clear_output()",
   "execution_count": 8,
   "outputs": []
  },
  {
   "cell_type": "code",
   "metadata": {
    "execution": {
     "iopub.execute_input": "2021-06-28T21:19:00.024214Z",
     "iopub.status.busy": "2021-06-28T21:19:00.023698Z",
     "iopub.status.idle": "2021-06-28T21:19:00.097339Z",
     "shell.execute_reply": "2021-06-28T21:19:00.096328Z",
     "shell.execute_reply.started": "2021-06-28T21:19:00.024167Z"
    },
    "id": "f5SLkPZ2I01J",
    "ExecuteTime": {
     "end_time": "2025-05-04T05:33:23.104925Z",
     "start_time": "2025-05-04T05:33:22.708656Z"
    }
   },
   "source": [
    "matplotlib.use(\"Agg\")\n",
    "print(min(X_train_nn))\n",
    "print(max(X_train_nn))"
   ],
   "outputs": [
    {
     "name": "stdout",
     "output_type": "stream",
     "text": [
      "-1.0\n",
      "1.0\n"
     ]
    }
   ],
   "execution_count": 9
  },
  {
   "cell_type": "code",
   "metadata": {
    "_kg_hide-output": true,
    "execution": {
     "iopub.execute_input": "2021-06-28T21:19:03.585235Z",
     "iopub.status.busy": "2021-06-28T21:19:03.584867Z",
     "iopub.status.idle": "2021-06-28T21:19:06.799324Z",
     "shell.execute_reply": "2021-06-28T21:19:06.798517Z",
     "shell.execute_reply.started": "2021-06-28T21:19:03.585199Z"
    },
    "id": "dNsCZbY3p8VM",
    "outputId": "431b8715-b9d1-4bb0-eb7e-5758027c14ac"
   },
   "source": [
    "epochs = 50\n",
    "kernel_regularizer = regularizers.l2(0.0001)\n",
    "\n",
    "\n",
    "def load_layers():\n",
    "    input_tensor = Input(shape=(IMG_SIZE, IMG_SIZE, COLOR_CHANNELS))\n",
    "    baseModel = MobileNetV3Large(\n",
    "        pooling='avg',\n",
    "        include_top=False,\n",
    "        include_preprocessing=False,\n",
    "        input_tensor=input_tensor,\n",
    "        input_shape=(IMG_SIZE, IMG_SIZE, COLOR_CHANNELS)\n",
    "    )\n",
    "\n",
    "    print(input_tensor)\n",
    "    headModel = baseModel.output\n",
    "    headModel = Dense(1, activation=\"sigmoid\", kernel_regularizer=kernel_regularizer)(headModel)\n",
    "    model = Model(inputs=baseModel.input, outputs=headModel)\n",
    "\n",
    "    for layer in baseModel.layers:\n",
    "        layer.trainable = False\n",
    "\n",
    "    print(\"Compiling model...\")\n",
    "    model.compile(loss=\"binary_crossentropy\",\n",
    "                  optimizer='adam',\n",
    "                  metrics=[\"accuracy\"])\n",
    "\n",
    "    return model\n",
    "\n",
    "\n",
    "if TPU_INIT:\n",
    "    with tpu_strategy.scope():\n",
    "        model = load_layers()\n",
    "else:\n",
    "    model = load_layers()\n",
    "\n",
    "model.summary()"
   ],
   "outputs": [],
   "execution_count": null
  },
  {
   "cell_type": "code",
   "metadata": {
    "execution": {
     "iopub.execute_input": "2021-06-28T21:19:22.163129Z",
     "iopub.status.busy": "2021-06-28T21:19:22.162673Z",
     "iopub.status.idle": "2021-06-28T21:19:22.176337Z",
     "shell.execute_reply": "2021-06-28T21:19:22.175519Z",
     "shell.execute_reply.started": "2021-06-28T21:19:22.163083Z"
    },
    "id": "Ot4-s-9rLwF4",
    "ExecuteTime": {
     "end_time": "2025-05-04T05:33:23.827246Z",
     "start_time": "2025-05-04T05:33:23.823090Z"
    }
   },
   "source": [
    "PATIENCE = 3\n",
    "\n",
    "START_LR = 0.00001\n",
    "MIN_LR = 0.00001\n",
    "MAX_LR = 0.00005\n",
    "\n",
    "BATCH_SIZE = 4\n",
    "RAMP_UP_EPOCHS = 5\n",
    "SUSTAIN_EPOCHS = 0\n",
    "EXP_DECAY = .8\n",
    "EARLY_STOP_ACCURACY = 0.999\n",
    "\n",
    "if TPU_INIT:\n",
    "    MAX_LR *= tpu_strategy.num_replicas_in_sync\n",
    "    BATCH_SIZE *= tpu_strategy.num_replicas_in_sync\n",
    "\n",
    "\n",
    "def lr_fn(epoch):\n",
    "    if epoch < RAMP_UP_EPOCHS:\n",
    "        lr = (MAX_LR - START_LR) / RAMP_UP_EPOCHS * epoch + START_LR\n",
    "    elif epoch < RAMP_UP_EPOCHS + SUSTAIN_EPOCHS:\n",
    "        lr = MAX_LR\n",
    "    else:\n",
    "        decay_epoch = epoch - RAMP_UP_EPOCHS - SUSTAIN_EPOCHS\n",
    "        lr = (MAX_LR - MIN_LR) * (EXP_DECAY ** decay_epoch) + MIN_LR\n",
    "    return lr\n",
    "\n",
    "\n",
    "class EarlyStopCallback(Callback):\n",
    "    def __init__(self, target_acc=EARLY_STOP_ACCURACY):\n",
    "        super().__init__()\n",
    "        self.target_acc = target_acc\n",
    "\n",
    "    def on_epoch_end(self, epoch, logs=None):\n",
    "        logs = logs or {}\n",
    "        accuracy = logs.get('accuracy')\n",
    "\n",
    "        if accuracy >= self.target_acc:\n",
    "            print(\"\\nДостигнут лимит остановки обучения!\")\n",
    "            self.model.stop_training = True"
   ],
   "outputs": [],
   "execution_count": 11
  },
  {
   "cell_type": "code",
   "metadata": {
    "execution": {
     "iopub.execute_input": "2021-06-28T21:19:28.031571Z",
     "iopub.status.busy": "2021-06-28T21:19:28.031227Z",
     "iopub.status.idle": "2021-06-28T21:19:28.388810Z",
     "shell.execute_reply": "2021-06-28T21:19:28.387749Z",
     "shell.execute_reply.started": "2021-06-28T21:19:28.031539Z"
    },
    "id": "-OB5GFdDsIAD",
    "ExecuteTime": {
     "end_time": "2025-05-04T05:33:23.846461Z",
     "start_time": "2025-05-04T05:33:23.832251Z"
    }
   },
   "source": [
    "CHECKPOINT_FILEPATH = \"ModelWeights_v3.weights.h5\"\n",
    "\n",
    "\n",
    "def build_callbacks(checkpoint_filepath=CHECKPOINT_FILEPATH, log_dir=\"logs/fit/\"):\n",
    "    log_dir = os.path.join(log_dir, datetime.datetime.now().strftime(\"%Y%m%d-%H%M%S\"))\n",
    "    callbacks = []\n",
    "\n",
    "    callbacks.append(\n",
    "        EarlyStopCallback()\n",
    "    )\n",
    "\n",
    "    callbacks.append(\n",
    "        LearningRateScheduler(\n",
    "            lambda epoch: lr_fn(epoch),\n",
    "            verbose=False\n",
    "        )\n",
    "    )\n",
    "\n",
    "    callbacks.append(\n",
    "        ModelCheckpoint(\n",
    "            filepath=checkpoint_filepath,\n",
    "            save_weights_only=True,\n",
    "            monitor='val_loss',\n",
    "            mode='min',\n",
    "            verbose=1,\n",
    "            save_best_only=True\n",
    "        )\n",
    "    )\n",
    "\n",
    "    if not TPU_INIT:\n",
    "        callbacks.append(\n",
    "            TensorBoard(\n",
    "                log_dir=log_dir,\n",
    "                write_graph=True,\n",
    "                histogram_freq=1\n",
    "            )\n",
    "        )\n",
    "\n",
    "    callbacks.append(\n",
    "        EarlyStopping(\n",
    "            patience=PATIENCE,\n",
    "            monitor='val_loss',\n",
    "            mode='min',\n",
    "            restore_best_weights=True,\n",
    "            verbose=1,\n",
    "            min_delta=.00075\n",
    "        )\n",
    "    )\n",
    "\n",
    "    callbacks.append(\n",
    "        ReduceLROnPlateau(\n",
    "            patience=2,\n",
    "            mode='min'\n",
    "        )\n",
    "    )\n",
    "\n",
    "    return callbacks\n",
    "\n",
    "\n",
    "os.system('rm -rf ./logs/')\n",
    "callbacks = build_callbacks()"
   ],
   "outputs": [],
   "execution_count": 12
  },
  {
   "cell_type": "code",
   "metadata": {
    "_kg_hide-output": false,
    "execution": {
     "iopub.execute_input": "2021-06-28T21:19:34.188325Z",
     "iopub.status.busy": "2021-06-28T21:19:34.187954Z",
     "iopub.status.idle": "2021-06-28T21:40:04.073914Z",
     "shell.execute_reply": "2021-06-28T21:40:04.073018Z",
     "shell.execute_reply.started": "2021-06-28T21:19:34.188280Z"
    },
    "id": "MDFpuPolFYRc",
    "outputId": "ea444b27-b899-46b5-cc59-fe9ba7de6c9a",
    "ExecuteTime": {
     "end_time": "2025-05-04T05:33:23.869800Z",
     "start_time": "2025-05-04T05:33:23.866825Z"
    }
   },
   "source": [
    "def train_model(_model):\n",
    "    print(\"Начало обучения головы модели\")\n",
    "    history = _model.fit(\n",
    "        X_train_nn,\n",
    "        y_train,\n",
    "        validation_data=(X_test_nn, y_test),\n",
    "        epochs=epochs,\n",
    "        batch_size=BATCH_SIZE,\n",
    "        callbacks=callbacks,\n",
    "        verbose=1\n",
    "    )\n",
    "\n",
    "    print(f'\\nВосстановление лучших весов для MobileNetV3 из {CHECKPOINT_FILEPATH}')\n",
    "    _model.load_weights(CHECKPOINT_FILEPATH)\n",
    "\n",
    "    return history"
   ],
   "outputs": [],
   "execution_count": 13
  },
  {
   "metadata": {},
   "cell_type": "code",
   "source": "history = train_model(model)",
   "outputs": [
    {
     "name": "stdout",
     "output_type": "stream",
     "text": [
      "\u001B[1m1909/1911\u001B[0m \u001B[32m━━━━━━━━━━━━━━━━━━━\u001B[0m\u001B[37m━\u001B[0m \u001B[1m0s\u001B[0m 21ms/step - accuracy: 0.9623 - loss: 0.1205\n",
      "Epoch 36: val_loss improved from 0.12726 to 0.12641, saving model to ModelWeights_v3.weights.h5\n",
      "\u001B[1m1911/1911\u001B[0m \u001B[32m━━━━━━━━━━━━━━━━━━━━\u001B[0m\u001B[37m\u001B[0m \u001B[1m55s\u001B[0m 29ms/step - accuracy: 0.9623 - loss: 0.1205 - val_accuracy: 0.9603 - val_loss: 0.1264 - learning_rate: 1.0050e-05\n",
      "Epoch 37/50\n",
      "\u001B[1m1909/1911\u001B[0m \u001B[32m━━━━━━━━━━━━━━━━━━━\u001B[0m\u001B[37m━\u001B[0m \u001B[1m0s\u001B[0m 21ms/step - accuracy: 0.9628 - loss: 0.1195\n",
      "Epoch 37: val_loss improved from 0.12641 to 0.12559, saving model to ModelWeights_v3.weights.h5\n",
      "\u001B[1m1911/1911\u001B[0m \u001B[32m━━━━━━━━━━━━━━━━━━━━\u001B[0m\u001B[37m\u001B[0m \u001B[1m55s\u001B[0m 29ms/step - accuracy: 0.9628 - loss: 0.1195 - val_accuracy: 0.9612 - val_loss: 0.1256 - learning_rate: 1.0040e-05\n",
      "Epoch 38/50\n",
      "\u001B[1m1909/1911\u001B[0m \u001B[32m━━━━━━━━━━━━━━━━━━━\u001B[0m\u001B[37m━\u001B[0m \u001B[1m0s\u001B[0m 21ms/step - accuracy: 0.9634 - loss: 0.1186\n",
      "Epoch 38: val_loss improved from 0.12559 to 0.12478, saving model to ModelWeights_v3.weights.h5\n",
      "\u001B[1m1911/1911\u001B[0m \u001B[32m━━━━━━━━━━━━━━━━━━━━\u001B[0m\u001B[37m\u001B[0m \u001B[1m56s\u001B[0m 29ms/step - accuracy: 0.9634 - loss: 0.1186 - val_accuracy: 0.9615 - val_loss: 0.1248 - learning_rate: 1.0032e-05\n",
      "Epoch 39/50\n",
      "\u001B[1m1909/1911\u001B[0m \u001B[32m━━━━━━━━━━━━━━━━━━━\u001B[0m\u001B[37m━\u001B[0m \u001B[1m0s\u001B[0m 22ms/step - accuracy: 0.9636 - loss: 0.1178\n",
      "Epoch 39: val_loss improved from 0.12478 to 0.12400, saving model to ModelWeights_v3.weights.h5\n",
      "\u001B[1m1911/1911\u001B[0m \u001B[32m━━━━━━━━━━━━━━━━━━━━\u001B[0m\u001B[37m\u001B[0m \u001B[1m59s\u001B[0m 31ms/step - accuracy: 0.9636 - loss: 0.1178 - val_accuracy: 0.9618 - val_loss: 0.1240 - learning_rate: 1.0025e-05\n",
      "Epoch 40/50\n",
      "\u001B[1m1910/1911\u001B[0m \u001B[32m━━━━━━━━━━━━━━━━━━━\u001B[0m\u001B[37m━\u001B[0m \u001B[1m0s\u001B[0m 26ms/step - accuracy: 0.9636 - loss: 0.1169\n",
      "Epoch 40: val_loss improved from 0.12400 to 0.12323, saving model to ModelWeights_v3.weights.h5\n",
      "\u001B[1m1911/1911\u001B[0m \u001B[32m━━━━━━━━━━━━━━━━━━━━\u001B[0m\u001B[37m\u001B[0m \u001B[1m71s\u001B[0m 37ms/step - accuracy: 0.9636 - loss: 0.1169 - val_accuracy: 0.9625 - val_loss: 0.1232 - learning_rate: 1.0020e-05\n",
      "Epoch 41/50\n",
      "\u001B[1m1910/1911\u001B[0m \u001B[32m━━━━━━━━━━━━━━━━━━━\u001B[0m\u001B[37m━\u001B[0m \u001B[1m0s\u001B[0m 27ms/step - accuracy: 0.9636 - loss: 0.1161\n",
      "Epoch 41: val_loss improved from 0.12323 to 0.12248, saving model to ModelWeights_v3.weights.h5\n",
      "\u001B[1m1911/1911\u001B[0m \u001B[32m━━━━━━━━━━━━━━━━━━━━\u001B[0m\u001B[37m\u001B[0m \u001B[1m70s\u001B[0m 37ms/step - accuracy: 0.9636 - loss: 0.1161 - val_accuracy: 0.9628 - val_loss: 0.1225 - learning_rate: 1.0016e-05\n",
      "Epoch 42/50\n",
      "\u001B[1m1910/1911\u001B[0m \u001B[32m━━━━━━━━━━━━━━━━━━━\u001B[0m\u001B[37m━\u001B[0m \u001B[1m0s\u001B[0m 25ms/step - accuracy: 0.9637 - loss: 0.1153\n",
      "Epoch 42: val_loss improved from 0.12248 to 0.12175, saving model to ModelWeights_v3.weights.h5\n",
      "\u001B[1m1911/1911\u001B[0m \u001B[32m━━━━━━━━━━━━━━━━━━━━\u001B[0m\u001B[37m\u001B[0m \u001B[1m66s\u001B[0m 35ms/step - accuracy: 0.9637 - loss: 0.1153 - val_accuracy: 0.9631 - val_loss: 0.1218 - learning_rate: 1.0013e-05\n",
      "Epoch 43/50\n",
      "\u001B[1m1910/1911\u001B[0m \u001B[32m━━━━━━━━━━━━━━━━━━━\u001B[0m\u001B[37m━\u001B[0m \u001B[1m0s\u001B[0m 26ms/step - accuracy: 0.9637 - loss: 0.1145\n",
      "Epoch 43: val_loss improved from 0.12175 to 0.12104, saving model to ModelWeights_v3.weights.h5\n",
      "\u001B[1m1911/1911\u001B[0m \u001B[32m━━━━━━━━━━━━━━━━━━━━\u001B[0m\u001B[37m\u001B[0m \u001B[1m68s\u001B[0m 36ms/step - accuracy: 0.9637 - loss: 0.1145 - val_accuracy: 0.9637 - val_loss: 0.1210 - learning_rate: 1.0010e-05\n",
      "Epoch 44/50\n",
      "\u001B[1m1910/1911\u001B[0m \u001B[32m━━━━━━━━━━━━━━━━━━━\u001B[0m\u001B[37m━\u001B[0m \u001B[1m0s\u001B[0m 25ms/step - accuracy: 0.9637 - loss: 0.1137\n",
      "Epoch 44: val_loss improved from 0.12104 to 0.12034, saving model to ModelWeights_v3.weights.h5\n",
      "\u001B[1m1911/1911\u001B[0m \u001B[32m━━━━━━━━━━━━━━━━━━━━\u001B[0m\u001B[37m\u001B[0m \u001B[1m66s\u001B[0m 35ms/step - accuracy: 0.9637 - loss: 0.1137 - val_accuracy: 0.9637 - val_loss: 0.1203 - learning_rate: 1.0008e-05\n",
      "Epoch 45/50\n",
      "\u001B[1m1909/1911\u001B[0m \u001B[32m━━━━━━━━━━━━━━━━━━━\u001B[0m\u001B[37m━\u001B[0m \u001B[1m0s\u001B[0m 27ms/step - accuracy: 0.9643 - loss: 0.1129\n",
      "Epoch 45: val_loss improved from 0.12034 to 0.11966, saving model to ModelWeights_v3.weights.h5\n",
      "\u001B[1m1911/1911\u001B[0m \u001B[32m━━━━━━━━━━━━━━━━━━━━\u001B[0m\u001B[37m\u001B[0m \u001B[1m70s\u001B[0m 37ms/step - accuracy: 0.9643 - loss: 0.1129 - val_accuracy: 0.9640 - val_loss: 0.1197 - learning_rate: 1.0007e-05\n",
      "Epoch 46/50\n",
      "\u001B[1m1910/1911\u001B[0m \u001B[32m━━━━━━━━━━━━━━━━━━━\u001B[0m\u001B[37m━\u001B[0m \u001B[1m0s\u001B[0m 27ms/step - accuracy: 0.9653 - loss: 0.1122\n",
      "Epoch 46: val_loss improved from 0.11966 to 0.11899, saving model to ModelWeights_v3.weights.h5\n",
      "\u001B[1m1911/1911\u001B[0m \u001B[32m━━━━━━━━━━━━━━━━━━━━\u001B[0m\u001B[37m\u001B[0m \u001B[1m74s\u001B[0m 38ms/step - accuracy: 0.9653 - loss: 0.1122 - val_accuracy: 0.9637 - val_loss: 0.1190 - learning_rate: 1.0005e-05\n",
      "Epoch 47/50\n",
      "\u001B[1m1909/1911\u001B[0m \u001B[32m━━━━━━━━━━━━━━━━━━━\u001B[0m\u001B[37m━\u001B[0m \u001B[1m0s\u001B[0m 28ms/step - accuracy: 0.9655 - loss: 0.1115\n",
      "Epoch 47: val_loss improved from 0.11899 to 0.11834, saving model to ModelWeights_v3.weights.h5\n",
      "\u001B[1m1911/1911\u001B[0m \u001B[32m━━━━━━━━━━━━━━━━━━━━\u001B[0m\u001B[37m\u001B[0m \u001B[1m75s\u001B[0m 39ms/step - accuracy: 0.9656 - loss: 0.1115 - val_accuracy: 0.9637 - val_loss: 0.1183 - learning_rate: 1.0004e-05\n",
      "Epoch 48/50\n",
      "\u001B[1m1911/1911\u001B[0m \u001B[32m━━━━━━━━━━━━━━━━━━━━\u001B[0m\u001B[37m\u001B[0m \u001B[1m0s\u001B[0m 28ms/step - accuracy: 0.9655 - loss: 0.1107\n",
      "Epoch 48: val_loss improved from 0.11834 to 0.11770, saving model to ModelWeights_v3.weights.h5\n",
      "\u001B[1m1911/1911\u001B[0m \u001B[32m━━━━━━━━━━━━━━━━━━━━\u001B[0m\u001B[37m\u001B[0m \u001B[1m75s\u001B[0m 39ms/step - accuracy: 0.9655 - loss: 0.1107 - val_accuracy: 0.9637 - val_loss: 0.1177 - learning_rate: 1.0003e-05\n",
      "Epoch 49/50\n",
      "\u001B[1m1911/1911\u001B[0m \u001B[32m━━━━━━━━━━━━━━━━━━━━\u001B[0m\u001B[37m\u001B[0m \u001B[1m0s\u001B[0m 29ms/step - accuracy: 0.9658 - loss: 0.1100\n",
      "Epoch 49: val_loss improved from 0.11770 to 0.11707, saving model to ModelWeights_v3.weights.h5\n",
      "\u001B[1m1911/1911\u001B[0m \u001B[32m━━━━━━━━━━━━━━━━━━━━\u001B[0m\u001B[37m\u001B[0m \u001B[1m77s\u001B[0m 40ms/step - accuracy: 0.9658 - loss: 0.1100 - val_accuracy: 0.9637 - val_loss: 0.1171 - learning_rate: 1.0003e-05\n",
      "Epoch 50/50\n",
      "\u001B[1m1911/1911\u001B[0m \u001B[32m━━━━━━━━━━━━━━━━━━━━\u001B[0m\u001B[37m\u001B[0m \u001B[1m0s\u001B[0m 30ms/step - accuracy: 0.9658 - loss: 0.1094\n",
      "Epoch 50: val_loss improved from 0.11707 to 0.11646, saving model to ModelWeights_v3.weights.h5\n",
      "\u001B[1m1911/1911\u001B[0m \u001B[32m━━━━━━━━━━━━━━━━━━━━\u001B[0m\u001B[37m\u001B[0m \u001B[1m78s\u001B[0m 41ms/step - accuracy: 0.9658 - loss: 0.1094 - val_accuracy: 0.9643 - val_loss: 0.1165 - learning_rate: 1.0002e-05\n",
      "Restoring model weights from the end of the best epoch: 50.\n",
      "\n",
      "Восстановление лучших весов для MobileNetV3 из ModelWeights_v3.weights.h5\n"
     ]
    }
   ],
   "execution_count": 14
  },
  {
   "cell_type": "code",
   "metadata": {
    "execution": {
     "iopub.execute_input": "2021-06-28T21:41:11.914827Z",
     "iopub.status.busy": "2021-06-28T21:41:11.914488Z",
     "iopub.status.idle": "2021-06-28T21:41:11.933416Z",
     "shell.execute_reply": "2021-06-28T21:41:11.932620Z",
     "shell.execute_reply.started": "2021-06-28T21:41:11.914793Z"
    },
    "id": "1s1W3C08sIAE",
    "ExecuteTime": {
     "end_time": "2025-05-04T07:59:10.413764Z",
     "start_time": "2025-05-04T07:59:10.407765Z"
    }
   },
   "source": [
    "%matplotlib inline\n",
    "\n",
    "def print_graph(history, metric, best_epoch, save=True):\n",
    "    plt.figure()\n",
    "\n",
    "    plt.plot(history.history[metric], label='Train')\n",
    "    plt.plot(history.history[f'val_{metric}'], label='Val')\n",
    "\n",
    "    if best_epoch is not None:\n",
    "        plt.axvline(best_epoch, linestyle='--', color='gray', alpha=0.6, label='Best Epoch')\n",
    "\n",
    "    plt.title(f'{metric.capitalize()} по эпохам')\n",
    "    plt.xlabel('Epoch')\n",
    "    plt.ylabel(metric.capitalize())\n",
    "    plt.legend()\n",
    "    plt.grid(True)\n",
    "\n",
    "    if save:\n",
    "        plot = '{}.png'.format(metric)\n",
    "        plt.savefig(plot)\n",
    "    plt.show()\n",
    "\n",
    "\n",
    "def model_summary(_model, _history, _x_test, _y_test):\n",
    "    print('---' * 30)\n",
    "    test_loss, test_accuracy = _model.evaluate(_x_test, _y_test, verbose=0)\n",
    "    print(f\"Test Accuracy: {test_accuracy:.4f} | Test Loss: {test_loss:.4f}\")\n",
    "\n",
    "    # Определим лучшую эпоху по минимальному val_loss\n",
    "    if _history:\n",
    "        val_losses = _history.history['val_loss']\n",
    "        best_epoch = int(np.argmin(val_losses))\n",
    "\n",
    "        print(f'Лучшая эпоха: {best_epoch}')\n",
    "        print(f\"Train Acc: {_history.history['accuracy'][best_epoch]:.4f} | \"\n",
    "              f\"Train Loss: {_history.history['loss'][best_epoch]:.4f}\")\n",
    "\n",
    "        print_graph(_history, 'accuracy', best_epoch)\n",
    "        print_graph(_history, 'loss', best_epoch)\n",
    "        print('---' * 30)"
   ],
   "outputs": [],
   "execution_count": 22
  },
  {
   "cell_type": "code",
   "metadata": {
    "execution": {
     "iopub.execute_input": "2021-06-28T21:41:15.265817Z",
     "iopub.status.busy": "2021-06-28T21:41:15.265489Z",
     "iopub.status.idle": "2021-06-28T21:41:18.543465Z",
     "shell.execute_reply": "2021-06-28T21:41:18.542383Z",
     "shell.execute_reply.started": "2021-06-28T21:41:15.265788Z"
    },
    "id": "z4jTgDv7sIAE",
    "outputId": "2159afd8-d667-4ad1-c54c-bf32e4b2465b",
    "ExecuteTime": {
     "end_time": "2025-05-04T07:59:24.577555Z",
     "start_time": "2025-05-04T07:59:12.233033Z"
    }
   },
   "source": "model_summary(model, history, X_test_nn, y_test)",
   "outputs": [
    {
     "name": "stdout",
     "output_type": "stream",
     "text": [
      "------------------------------------------------------------------------------------------\n",
      "Test Accuracy: 0.9643 | Test Loss: 0.1165\n",
      "Лучшая эпоха: 49\n",
      "Train Acc: 0.9669 | Train Loss: 0.1100\n"
     ]
    },
    {
     "data": {
      "text/plain": [
       "<Figure size 640x480 with 1 Axes>"
      ],
      "image/png": "[encoded data removed]"
     },
     "metadata": {},
     "output_type": "display_data"
    },
    {
     "data": {
      "text/plain": [
       "<Figure size 640x480 with 1 Axes>"
      ],
      "image/png": "[encoded data removed]"
     },
     "metadata": {},
     "output_type": "display_data"
    },
    {
     "name": "stdout",
     "output_type": "stream",
     "text": [
      "------------------------------------------------------------------------------------------\n"
     ]
    }
   ],
   "execution_count": 23
  },
  {
   "cell_type": "markdown",
   "metadata": {
    "id": "e0eSBvicsIAF"
   },
   "source": [
    "## **Evaluation on test set**"
   ]
  },
  {
   "cell_type": "code",
   "metadata": {
    "execution": {
     "iopub.execute_input": "2021-06-28T21:41:29.601949Z",
     "iopub.status.busy": "2021-06-28T21:41:29.601622Z",
     "iopub.status.idle": "2021-06-28T21:41:29.957269Z",
     "shell.execute_reply": "2021-06-28T21:41:29.956236Z",
     "shell.execute_reply.started": "2021-06-28T21:41:29.601912Z"
    },
    "id": "NEiZpFUksIAF",
    "outputId": "2cdc7828-5347-46a9-eec1-83f386aa7065",
    "ExecuteTime": {
     "end_time": "2025-05-04T06:20:41.303286Z",
     "start_time": "2025-05-04T06:20:41.249271Z"
    }
   },
   "source": [
    "# evaluate the network\n",
    "print(\"Проверка модели...\")\n",
    "predictions = model.predict(X_test_nn)\n",
    "preds = predictions > 0.5\n",
    "corr_pred = metrics.confusion_matrix(y_test, preds)\n",
    "\n",
    "n_correct = np.uint64((corr_pred[0][0] + corr_pred[1][1]))\n",
    "print('> Correct Predictions:', n_correct)\n",
    "n_wrongs = np.uint((corr_pred[0][1] + (corr_pred[1][0])))\n",
    "print('> Wrong Predictions:', n_wrongs)\n",
    "\n",
    "sns.heatmap(corr_pred, annot=True, fmt=\"d\", cmap=\"Blues\")\n",
    "plt.show()\n",
    "\n",
    "print(metrics.classification_report(y_test, preds,\n",
    "                                    target_names=[\"NonViolence\", \"Violence\"]))"
   ],
   "outputs": [
    {
     "name": "stdout",
     "output_type": "stream",
     "text": [
      "> Correct Predictions: 3159\n",
      "> Wrong Predictions: 117\n"
     ]
    },
    {
     "data": {
      "text/plain": [
       "<Figure size 640x480 with 2 Axes>"
      ],
      "image/png": "[encoded data removed]"
     },
     "metadata": {},
     "output_type": "display_data"
    },
    {
     "name": "stdout",
     "output_type": "stream",
     "text": [
      "              precision    recall  f1-score   support\n",
      "\n",
      " NonViolence       0.97      0.96      0.96      1593\n",
      "    Violence       0.96      0.97      0.97      1683\n",
      "\n",
      "    accuracy                           0.96      3276\n",
      "   macro avg       0.96      0.96      0.96      3276\n",
      "weighted avg       0.96      0.96      0.96      3276\n",
      "\n"
     ]
    }
   ],
   "execution_count": 18
  },
  {
   "metadata": {
    "ExecuteTime": {
     "end_time": "2025-05-04T08:04:50.410719Z",
     "start_time": "2025-05-04T08:04:37.536172Z"
    }
   },
   "cell_type": "code",
   "source": [
    "def evaluate_model(_model, _x_test, _y_test, threshold=0.5):\n",
    "    print(\"\\n=== Проверка модели ===\")\n",
    "    _predictions = _model.predict(_x_test, batch_size=64, verbose=1).flatten()\n",
    "    predictions_binary = (_predictions > threshold).astype(int)\n",
    "\n",
    "    # Confusion matrix\n",
    "    cm = metrics.confusion_matrix(_y_test, predictions_binary)\n",
    "    correct = np.sum(np.diag(cm))\n",
    "    total = np.sum(cm)\n",
    "\n",
    "    print(f\"> Correct Predictions: {correct}\")\n",
    "    print(f\"> Wrong Predictions: {total - correct}\")\n",
    "    print(\"\\nConfusion Matrix:\")\n",
    "    sns.heatmap(cm, annot=True, fmt='d', cmap='Blues',\n",
    "                xticklabels=[\"NonViolence\", \"Violence\"],\n",
    "                yticklabels=[\"NonViolence\", \"Violence\"])\n",
    "    plt.xlabel('Predicted')\n",
    "    plt.ylabel('True')\n",
    "    plt.title('Confusion Matrix')\n",
    "    plt.show()\n",
    "\n",
    "    print(\"\\nClassification Report:\")\n",
    "    print(metrics.classification_report(_y_test, predictions_binary,\n",
    "                                        target_names=[\"NonViolence\", \"Violence\"]))\n",
    "\n",
    "    auc = metrics.roc_auc_score(_y_test, _predictions)\n",
    "    print(f\"ROC-AUC: {auc:.4f}\")\n",
    "\n",
    "    # ROC Curve\n",
    "    fpr, tpr, _ = metrics.roc_curve(_y_test, _predictions)\n",
    "    plt.figure(figsize=(6, 4))\n",
    "    plt.plot(fpr, tpr, label=f'AUC = {auc:.4f}')\n",
    "    plt.plot([0, 1], [0, 1], linestyle='--', color='gray')\n",
    "    plt.title('ROC Curve')\n",
    "    plt.xlabel('False Positive Rate')\n",
    "    plt.ylabel('True Positive Rate')\n",
    "    plt.legend()\n",
    "    plt.grid(True)\n",
    "    plt.show()\n",
    "\n",
    "evaluate_model(model, X_test_nn, y_test)"
   ],
   "outputs": [
    {
     "name": "stdout",
     "output_type": "stream",
     "text": [
      "\n",
      "=== Проверка модели ===\n",
      "\u001B[1m52/52\u001B[0m \u001B[32m━━━━━━━━━━━━━━━━━━━━\u001B[0m\u001B[37m\u001B[0m \u001B[1m12s\u001B[0m 227ms/step\n",
      "> Correct Predictions: 3159\n",
      "> Wrong Predictions: 117\n",
      "\n",
      "Confusion Matrix:\n"
     ]
    },
    {
     "data": {
      "text/plain": [
       "<Figure size 640x480 with 2 Axes>"
      ],
      "image/png": "[encoded data removed]"
     },
     "metadata": {},
     "output_type": "display_data"
    },
    {
     "name": "stdout",
     "output_type": "stream",
     "text": [
      "\n",
      "Classification Report:\n",
      "              precision    recall  f1-score   support\n",
      "\n",
      " NonViolence       0.97      0.96      0.96      1593\n",
      "    Violence       0.96      0.97      0.97      1683\n",
      "\n",
      "    accuracy                           0.96      3276\n",
      "   macro avg       0.96      0.96      0.96      3276\n",
      "weighted avg       0.96      0.96      0.96      3276\n",
      "\n",
      "ROC-AUC: 0.9932\n"
     ]
    },
    {
     "data": {
      "text/plain": [
       "<Figure size 600x400 with 1 Axes>"
      ],
      "image/png": "[encoded data removed]"
     },
     "metadata": {},
     "output_type": "display_data"
    }
   ],
   "execution_count": 25
  },
  {
   "cell_type": "code",
   "metadata": {
    "execution": {
     "iopub.execute_input": "2021-06-27T12:26:57.76156Z",
     "iopub.status.busy": "2021-06-27T12:26:57.761213Z",
     "iopub.status.idle": "2021-06-27T12:26:58.023373Z",
     "shell.execute_reply": "2021-06-27T12:26:58.02252Z",
     "shell.execute_reply.started": "2021-06-27T12:26:57.761526Z"
    },
    "id": "QC4GtxqMtt81",
    "ExecuteTime": {
     "end_time": "2025-05-04T07:58:07.612990Z",
     "start_time": "2025-05-04T07:58:07.426286Z"
    }
   },
   "source": [
    "args_model = \"./mobilenet_v3_model.keras\"\n",
    "model.save(args_model)"
   ],
   "outputs": [],
   "execution_count": 21
  }
 ],
 "metadata": {
  "kernelspec": {
   "display_name": "Python 3 (ipykernel)",
   "language": "python",
   "name": "python3"
  },
  "language_info": {
   "codemirror_mode": {
    "name": "ipython",
    "version": 3
   },
   "file_extension": ".py",
   "mimetype": "text/x-python",
   "name": "python",
   "nbconvert_exporter": "python",
   "pygments_lexer": "ipython3",
   "version": "3.9.7"
  },
  "colab": {
   "name": "mobilenetv2-model.ipynb",
   "provenance": []
  }
 },
 "nbformat": 4,
 "nbformat_minor": 0
}
