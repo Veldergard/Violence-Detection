{
 "cells": [
  {
   "cell_type": "code",
   "metadata": {
    "execution": {
     "iopub.execute_input": "2021-06-28T21:12:08.176151Z",
     "iopub.status.busy": "2021-06-28T21:12:08.175772Z",
     "iopub.status.idle": "2021-06-28T21:12:08.188567Z",
     "shell.execute_reply": "2021-06-28T21:12:08.187647Z",
     "shell.execute_reply.started": "2021-06-28T21:12:08.176065Z"
    },
    "id": "YMm4qVv5qtGE",
    "outputId": "46034115-6222-4708-e9ef-f7f407130943"
   },
   "source": [
    "from IPython.display import clear_output\n",
    "from numpy import max, min\n",
    "\n",
    "from aggr_utils import print_system_info\n",
    "import tensorflow as tf\n",
    "import imgaug.augmenters as iaa\n",
    "from tqdm import tqdm\n",
    "from sklearn.model_selection import StratifiedShuffleSplit\n",
    "import cv2\n",
    "import os\n",
    "import numpy as np\n",
    "import matplotlib\n",
    "from keras.api.layers import Input\n",
    "from keras.api.models import Model, load_model\n",
    "from keras.api.layers import Dropout, Flatten, Dense\n",
    "import matplotlib.pyplot as plt\n",
    "import datetime\n",
    "\n",
    "from keras import regularizers\n",
    "from keras.src.applications.mobilenet_v3 import MobileNetV3Large, preprocess_input\n",
    "\n",
    "from keras.api.callbacks import (\n",
    "    Callback,\n",
    "    ModelCheckpoint,\n",
    "    LearningRateScheduler,\n",
    "    TensorBoard,\n",
    "    EarlyStopping,\n",
    "    ReduceLROnPlateau\n",
    ")\n",
    "\n",
    "import seaborn as sns\n",
    "from sklearn import metrics\n",
    "from sklearn.metrics import (\n",
    "    roc_curve,\n",
    "    roc_auc_score,\n",
    "    accuracy_score,\n",
    "    classification_report,\n",
    "    confusion_matrix\n",
    ")\n",
    "import math"
   ],
   "outputs": [],
   "execution_count": null
  },
  {
   "metadata": {},
   "cell_type": "code",
   "source": [
    "print_system_info()\n",
    "seed = 73\n",
    "IMG_SIZE = 224\n",
    "COLOR_CHANNELS = 3\n",
    "FRAMES_PER_SECOND = 2\n",
    "DATASET_DIR = '../datasets/violence'\n",
    "KERAS_MODEL_FILENAME = 'mobilenet_v3_model.keras'\n",
    "CHECKPOINT_FILEPATH = \"ModelWeights_v3.weights.h5\"\n",
    "tf.random.set_seed(seed)"
   ],
   "outputs": [],
   "execution_count": null
  },
  {
   "cell_type": "code",
   "metadata": {
    "execution": {
     "iopub.execute_input": "2021-06-28T21:12:12.539247Z",
     "iopub.status.busy": "2021-06-28T21:12:12.538912Z",
     "iopub.status.idle": "2021-06-28T21:12:18.360385Z",
     "shell.execute_reply": "2021-06-28T21:12:18.359448Z",
     "shell.execute_reply.started": "2021-06-28T21:12:12.539218Z"
    },
    "id": "m77ifGzHqtBg",
    "outputId": "cccebfce-fcbf-4a7d-802b-4de91b6e4772"
   },
   "source": [
    "TPU_INIT = False\n",
    "\n",
    "if TPU_INIT:\n",
    "    try:\n",
    "        tpu = tf.distribute.cluster_resolver.TPUClusterResolver.connect()\n",
    "        tpu_strategy = tf.distribute.experimental.TPUStrategy(tpu)\n",
    "\n",
    "    except ValueError:\n",
    "        raise BaseException('ERROR: Not connected to a TPU runtime!')\n",
    "else:\n",
    "    !nvidia-smi\n"
   ],
   "outputs": [],
   "execution_count": null
  },
  {
   "cell_type": "markdown",
   "metadata": {
    "id": "xelnEP2OsH_7"
   },
   "source": [
    "## **Preprocessing**\n",
    "+ **Getting frames form video**\n",
    "+ **some image argumentations**"
   ]
  },
  {
   "cell_type": "code",
   "metadata": {
    "execution": {
     "iopub.execute_input": "2021-06-28T21:13:35.503988Z",
     "iopub.status.busy": "2021-06-28T21:13:35.503640Z",
     "iopub.status.idle": "2021-06-28T21:13:37.178990Z",
     "shell.execute_reply": "2021-06-28T21:13:37.178190Z",
     "shell.execute_reply.started": "2021-06-28T21:13:35.503957Z"
    },
    "id": "VNftx0E_sH_9"
   },
   "source": [
    "def video_to_frames(video):\n",
    "    vidcap = cv2.VideoCapture(video)\n",
    "\n",
    "    frame_rate = vidcap.get(cv2.CAP_PROP_FPS)\n",
    "    frames_to_skip = int(frame_rate // FRAMES_PER_SECOND)\n",
    "    count = 0\n",
    "\n",
    "    ImageFrames = []\n",
    "    while vidcap.isOpened():\n",
    "        frame_id = vidcap.get(1)\n",
    "        success, image = vidcap.read()\n",
    "\n",
    "        if success:\n",
    "            if frame_id % frames_to_skip == 0:\n",
    "                flip = iaa.Fliplr(1.0)\n",
    "                zoom = iaa.Affine(scale=1.3)\n",
    "                random_brightness = iaa.Multiply((1, 1.3))\n",
    "                rotate = iaa.Affine(rotate=(-25, 25))\n",
    "\n",
    "                image_aug = flip(image=image)\n",
    "                image_aug = random_brightness(image=image_aug)\n",
    "                image_aug = zoom(image=image_aug)\n",
    "                image_aug = rotate(image=image_aug)\n",
    "\n",
    "                rgb_img = cv2.cvtColor(image_aug, cv2.COLOR_BGR2RGB)\n",
    "                resized = cv2.resize(rgb_img, (IMG_SIZE, IMG_SIZE))\n",
    "                ImageFrames.append(resized)\n",
    "\n",
    "            count += 1\n",
    "        else:\n",
    "            break\n",
    "\n",
    "    vidcap.release()\n",
    "\n",
    "    return ImageFrames"
   ],
   "outputs": [],
   "execution_count": null
  },
  {
   "cell_type": "code",
   "metadata": {
    "execution": {
     "iopub.execute_input": "2021-06-28T21:13:41.414231Z",
     "iopub.status.busy": "2021-06-28T21:13:41.413870Z",
     "iopub.status.idle": "2021-06-28T21:17:29.584414Z",
     "shell.execute_reply": "2021-06-28T21:17:29.581822Z",
     "shell.execute_reply.started": "2021-06-28T21:13:41.414198Z"
    },
    "id": "VtjFbXZKsH_-",
    "outputId": "26ea2589-1b55-47d5-947c-7bb5bd21f999"
   },
   "source": [
    "video_data_dir = os.path.join(DATASET_DIR, 'Real Life Violence Dataset')\n",
    "\n",
    "print('Доступно \\n{} видео с агрессией \\n{} видео без агрессии'.format(\n",
    "    len(os.listdir(video_data_dir + '/Violence')),\n",
    "    len(os.listdir(video_data_dir + '/NonViolence'))))\n",
    "\n",
    "x_original = []\n",
    "y_original = []\n",
    "\n",
    "# Выбор случайных 1000 видео для решения проблем с памятью\n",
    "# 500 с агрессией и 500 без\n",
    "VIDEOS_PER_CLASS = 500\n",
    "CLASSES = [\"NonViolence\", \"Violence\"]\n",
    "\n",
    "for category in CLASSES:\n",
    "    path = os.path.join(video_data_dir, category)\n",
    "    class_num = CLASSES.index(category)\n",
    "    for i, video in enumerate(tqdm(os.listdir(path)[VIDEOS_PER_CLASS:])):\n",
    "        frames = video_to_frames(os.path.join(path, video))\n",
    "        for j, frame in enumerate(frames):\n",
    "            x_original.append(frame)\n",
    "            y_original.append(class_num)"
   ],
   "outputs": [],
   "execution_count": null
  },
  {
   "cell_type": "code",
   "metadata": {
    "execution": {
     "iopub.execute_input": "2021-06-28T21:18:34.638320Z",
     "iopub.status.busy": "2021-06-28T21:18:34.637958Z",
     "iopub.status.idle": "2021-06-28T21:18:34.864211Z",
     "shell.execute_reply": "2021-06-28T21:18:34.863222Z",
     "shell.execute_reply.started": "2021-06-28T21:18:34.638286Z"
    },
    "id": "0Knwy2OjsH__",
    "outputId": "53453a2c-9bc7-4210-8736-b89ce5819e15"
   },
   "source": [
    "x_original = np.array(x_original).reshape(-1, IMG_SIZE * IMG_SIZE * 3)\n",
    "y_original = np.array(y_original)\n",
    "print(len(x_original))\n",
    "\n",
    "stratified_sample = StratifiedShuffleSplit(n_splits=2, test_size=0.3, random_state=seed)\n",
    "\n",
    "for train_index, test_index in stratified_sample.split(x_original, y_original):\n",
    "    x_train, x_test = x_original[train_index], x_original[test_index]\n",
    "    y_train, y_test = y_original[train_index], y_original[test_index]\n",
    "\n",
    "\n",
    "def preprocess_input(x):\n",
    "    x = x.reshape(-1, IMG_SIZE, IMG_SIZE, COLOR_CHANNELS) / 255.0\n",
    "    # Модель ожидает на вход от -1.0 до 1.0\n",
    "    return (x - 0.5) * 2.0\n",
    "\n",
    "\n",
    "x_train_nn = preprocess_input(x_train)\n",
    "x_test_nn = preprocess_input(x_test)"
   ],
   "outputs": [],
   "execution_count": null
  },
  {
   "cell_type": "markdown",
   "metadata": {
    "id": "fvmfQMM0p46i"
   },
   "source": [
    "## **Model Training**"
   ]
  },
  {
   "cell_type": "code",
   "metadata": {
    "execution": {
     "iopub.execute_input": "2021-06-28T21:18:46.747492Z",
     "iopub.status.busy": "2021-06-28T21:18:46.747115Z",
     "iopub.status.idle": "2021-06-28T21:18:56.074221Z",
     "shell.execute_reply": "2021-06-28T21:18:56.073342Z",
     "shell.execute_reply.started": "2021-06-28T21:18:46.747463Z"
    },
    "id": "loeXLm9-sIAB"
   },
   "source": "clear_output()",
   "outputs": [],
   "execution_count": null
  },
  {
   "cell_type": "code",
   "metadata": {
    "execution": {
     "iopub.execute_input": "2021-06-28T21:19:00.024214Z",
     "iopub.status.busy": "2021-06-28T21:19:00.023698Z",
     "iopub.status.idle": "2021-06-28T21:19:00.097339Z",
     "shell.execute_reply": "2021-06-28T21:19:00.096328Z",
     "shell.execute_reply.started": "2021-06-28T21:19:00.024167Z"
    },
    "id": "f5SLkPZ2I01J"
   },
   "source": [
    "matplotlib.use(\"Agg\")\n",
    "print(min(x_train_nn))\n",
    "print(max(x_train_nn))"
   ],
   "outputs": [],
   "execution_count": null
  },
  {
   "metadata": {},
   "cell_type": "code",
   "source": "",
   "outputs": [],
   "execution_count": null
  },
  {
   "cell_type": "code",
   "metadata": {
    "_kg_hide-output": true,
    "execution": {
     "iopub.execute_input": "2021-06-28T21:19:03.585235Z",
     "iopub.status.busy": "2021-06-28T21:19:03.584867Z",
     "iopub.status.idle": "2021-06-28T21:19:06.799324Z",
     "shell.execute_reply": "2021-06-28T21:19:06.798517Z",
     "shell.execute_reply.started": "2021-06-28T21:19:03.585199Z"
    },
    "id": "dNsCZbY3p8VM",
    "outputId": "431b8715-b9d1-4bb0-eb7e-5758027c14ac"
   },
   "source": [
    "epochs = 50\n",
    "kernel_regularizer = regularizers.l2(0.0001)\n",
    "FROM_FILE = False\n",
    "\n",
    "\n",
    "def load_layers():\n",
    "    input_tensor = Input(shape=(IMG_SIZE, IMG_SIZE, COLOR_CHANNELS))\n",
    "    baseModel = MobileNetV3Large(\n",
    "        pooling='avg',\n",
    "        include_top=False,\n",
    "        include_preprocessing=False,\n",
    "        input_tensor=input_tensor,\n",
    "        input_shape=(IMG_SIZE, IMG_SIZE, COLOR_CHANNELS)\n",
    "    )\n",
    "\n",
    "    print(input_tensor)\n",
    "    headModel = baseModel.output\n",
    "    headModel = Dense(1, activation=\"sigmoid\", kernel_regularizer=kernel_regularizer)(headModel)\n",
    "    model = Model(inputs=baseModel.input, outputs=headModel)\n",
    "\n",
    "    for layer in baseModel.layers:\n",
    "        layer.trainable = False\n",
    "\n",
    "    print(\"Compiling model...\")\n",
    "    model.compile(loss=\"binary_crossentropy\",\n",
    "                  optimizer='adam',\n",
    "                  metrics=[\"accuracy\"])\n",
    "\n",
    "    return model\n",
    "\n",
    "\n",
    "if FROM_FILE:\n",
    "    model = load_model(CHECKPOINT_FILEPATH)\n",
    "else:\n",
    "    if TPU_INIT:\n",
    "        with tpu_strategy.scope():\n",
    "            model = load_layers()\n",
    "    else:\n",
    "        model = load_layers()\n",
    "\n",
    "model.summary()"
   ],
   "outputs": [],
   "execution_count": null
  },
  {
   "cell_type": "code",
   "metadata": {
    "execution": {
     "iopub.execute_input": "2021-06-28T21:19:22.163129Z",
     "iopub.status.busy": "2021-06-28T21:19:22.162673Z",
     "iopub.status.idle": "2021-06-28T21:19:22.176337Z",
     "shell.execute_reply": "2021-06-28T21:19:22.175519Z",
     "shell.execute_reply.started": "2021-06-28T21:19:22.163083Z"
    },
    "id": "Ot4-s-9rLwF4"
   },
   "source": [
    "PATIENCE = 3\n",
    "\n",
    "START_LR = 0.00001\n",
    "MIN_LR = 0.00001\n",
    "MAX_LR = 0.00005\n",
    "\n",
    "BATCH_SIZE = 4\n",
    "RAMP_UP_EPOCHS = 5\n",
    "SUSTAIN_EPOCHS = 0\n",
    "EXP_DECAY = .8\n",
    "EARLY_STOP_ACCURACY = 0.999\n",
    "\n",
    "if TPU_INIT:\n",
    "    MAX_LR *= tpu_strategy.num_replicas_in_sync\n",
    "    BATCH_SIZE *= tpu_strategy.num_replicas_in_sync\n",
    "\n",
    "\n",
    "def lr_fn(epoch):\n",
    "    if epoch < RAMP_UP_EPOCHS:\n",
    "        lr = (MAX_LR - START_LR) / RAMP_UP_EPOCHS * epoch + START_LR\n",
    "    elif epoch < RAMP_UP_EPOCHS + SUSTAIN_EPOCHS:\n",
    "        lr = MAX_LR\n",
    "    else:\n",
    "        decay_epoch = epoch - RAMP_UP_EPOCHS - SUSTAIN_EPOCHS\n",
    "        lr = (MAX_LR - MIN_LR) * (EXP_DECAY ** decay_epoch) + MIN_LR\n",
    "    return lr\n",
    "\n",
    "\n",
    "class EarlyStopCallback(Callback):\n",
    "    def __init__(self, target_acc=EARLY_STOP_ACCURACY):\n",
    "        super().__init__()\n",
    "        self.target_acc = target_acc\n",
    "\n",
    "    def on_epoch_end(self, epoch, logs=None):\n",
    "        logs = logs or {}\n",
    "        accuracy = logs.get('accuracy')\n",
    "\n",
    "        if accuracy >= self.target_acc:\n",
    "            print(\"\\nДостигнут лимит остановки обучения!\")\n",
    "            self.model.stop_training = True"
   ],
   "outputs": [],
   "execution_count": null
  },
  {
   "cell_type": "code",
   "metadata": {
    "execution": {
     "iopub.execute_input": "2021-06-28T21:19:28.031571Z",
     "iopub.status.busy": "2021-06-28T21:19:28.031227Z",
     "iopub.status.idle": "2021-06-28T21:19:28.388810Z",
     "shell.execute_reply": "2021-06-28T21:19:28.387749Z",
     "shell.execute_reply.started": "2021-06-28T21:19:28.031539Z"
    },
    "id": "-OB5GFdDsIAD"
   },
   "source": [
    "def build_callbacks(checkpoint_filepath=CHECKPOINT_FILEPATH, log_dir=\"logs/fit/\"):\n",
    "    log_dir = os.path.join(log_dir, datetime.datetime.now().strftime(\"%Y%m%d-%H%M%S\"))\n",
    "    callbacks = []\n",
    "\n",
    "    callbacks.append(\n",
    "        EarlyStopCallback()\n",
    "    )\n",
    "\n",
    "    callbacks.append(\n",
    "        LearningRateScheduler(\n",
    "            lambda epoch: lr_fn(epoch),\n",
    "            verbose=False\n",
    "        )\n",
    "    )\n",
    "\n",
    "    callbacks.append(\n",
    "        ModelCheckpoint(\n",
    "            filepath=checkpoint_filepath,\n",
    "            save_weights_only=True,\n",
    "            monitor='val_loss',\n",
    "            mode='min',\n",
    "            verbose=1,\n",
    "            save_best_only=True\n",
    "        )\n",
    "    )\n",
    "\n",
    "    if not TPU_INIT:\n",
    "        callbacks.append(\n",
    "            TensorBoard(\n",
    "                log_dir=log_dir,\n",
    "                write_graph=True,\n",
    "                histogram_freq=1\n",
    "            )\n",
    "        )\n",
    "\n",
    "    callbacks.append(\n",
    "        EarlyStopping(\n",
    "            patience=PATIENCE,\n",
    "            monitor='val_loss',\n",
    "            mode='min',\n",
    "            restore_best_weights=True,\n",
    "            verbose=1,\n",
    "            min_delta=.00075\n",
    "        )\n",
    "    )\n",
    "\n",
    "    callbacks.append(\n",
    "        ReduceLROnPlateau(\n",
    "            patience=2,\n",
    "            mode='min'\n",
    "        )\n",
    "    )\n",
    "\n",
    "    return callbacks\n",
    "\n",
    "\n",
    "os.system('rm -rf ./logs/')\n",
    "callbacks = build_callbacks()"
   ],
   "outputs": [],
   "execution_count": null
  },
  {
   "cell_type": "code",
   "metadata": {
    "_kg_hide-output": false,
    "execution": {
     "iopub.execute_input": "2021-06-28T21:19:34.188325Z",
     "iopub.status.busy": "2021-06-28T21:19:34.187954Z",
     "iopub.status.idle": "2021-06-28T21:40:04.073914Z",
     "shell.execute_reply": "2021-06-28T21:40:04.073018Z",
     "shell.execute_reply.started": "2021-06-28T21:19:34.188280Z"
    },
    "id": "MDFpuPolFYRc",
    "outputId": "ea444b27-b899-46b5-cc59-fe9ba7de6c9a"
   },
   "source": [
    "def train_model(_model):\n",
    "    print(\"Начало обучения головы модели\")\n",
    "    history = _model.fit(\n",
    "        x_train_nn,\n",
    "        y_train,\n",
    "        validation_data=(x_test_nn, y_test),\n",
    "        epochs=epochs,\n",
    "        batch_size=BATCH_SIZE,\n",
    "        callbacks=callbacks,\n",
    "        verbose=1\n",
    "    )\n",
    "\n",
    "    print(f'\\nВосстановление лучших весов для MobileNetV3 из {CHECKPOINT_FILEPATH}')\n",
    "    _model.load_weights(CHECKPOINT_FILEPATH)\n",
    "\n",
    "    return history"
   ],
   "outputs": [],
   "execution_count": null
  },
  {
   "metadata": {},
   "cell_type": "code",
   "source": "history = train_model(model)",
   "outputs": [],
   "execution_count": null
  },
  {
   "cell_type": "code",
   "metadata": {
    "execution": {
     "iopub.execute_input": "2021-06-28T21:41:11.914827Z",
     "iopub.status.busy": "2021-06-28T21:41:11.914488Z",
     "iopub.status.idle": "2021-06-28T21:41:11.933416Z",
     "shell.execute_reply": "2021-06-28T21:41:11.932620Z",
     "shell.execute_reply.started": "2021-06-28T21:41:11.914793Z"
    },
    "id": "1s1W3C08sIAE"
   },
   "source": [
    "%matplotlib inline\n",
    "\n",
    "def print_graph(history, metric, best_epoch, save=True):\n",
    "    plt.figure()\n",
    "\n",
    "    plt.plot(history.history[metric], label='Train')\n",
    "    plt.plot(history.history[f'val_{metric}'], label='Val')\n",
    "\n",
    "    if best_epoch is not None:\n",
    "        plt.axvline(best_epoch, linestyle='--', color='gray', alpha=0.6, label='Best Epoch')\n",
    "\n",
    "    plt.title(f'{metric.capitalize()} по эпохам')\n",
    "    plt.xlabel('Epoch')\n",
    "    plt.ylabel(metric.capitalize())\n",
    "    plt.legend()\n",
    "    plt.grid(True)\n",
    "\n",
    "    if save:\n",
    "        plot = '{}.png'.format(metric)\n",
    "        plt.savefig(plot)\n",
    "    plt.show()\n",
    "\n",
    "\n",
    "def model_summary(_model, _history, _x_test, _y_test):\n",
    "    print('---' * 30)\n",
    "    test_loss, test_accuracy = _model.evaluate(_x_test, _y_test, verbose=0)\n",
    "    print(f\"Test Accuracy: {test_accuracy:.4f} | Test Loss: {test_loss:.4f}\")\n",
    "\n",
    "    # Определим лучшую эпоху по минимальному val_loss\n",
    "    if _history:\n",
    "        val_losses = _history.history['val_loss']\n",
    "        best_epoch = int(np.argmin(val_losses))\n",
    "\n",
    "        print(f'Лучшая эпоха: {best_epoch}')\n",
    "        print(f\"Train Acc: {_history.history['accuracy'][best_epoch]:.4f} | \"\n",
    "              f\"Train Loss: {_history.history['loss'][best_epoch]:.4f}\")\n",
    "\n",
    "        print_graph(_history, 'accuracy', best_epoch)\n",
    "        print_graph(_history, 'loss', best_epoch)\n",
    "        print('---' * 30)"
   ],
   "outputs": [],
   "execution_count": null
  },
  {
   "cell_type": "code",
   "metadata": {
    "execution": {
     "iopub.execute_input": "2021-06-28T21:41:15.265817Z",
     "iopub.status.busy": "2021-06-28T21:41:15.265489Z",
     "iopub.status.idle": "2021-06-28T21:41:18.543465Z",
     "shell.execute_reply": "2021-06-28T21:41:18.542383Z",
     "shell.execute_reply.started": "2021-06-28T21:41:15.265788Z"
    },
    "id": "z4jTgDv7sIAE",
    "outputId": "2159afd8-d667-4ad1-c54c-bf32e4b2465b"
   },
   "source": "model_summary(model, history, x_test_nn, y_test)",
   "outputs": [],
   "execution_count": null
  },
  {
   "cell_type": "markdown",
   "metadata": {
    "id": "e0eSBvicsIAF"
   },
   "source": [
    "## **Evaluation on test set**"
   ]
  },
  {
   "cell_type": "code",
   "metadata": {
    "execution": {
     "iopub.execute_input": "2021-06-28T21:41:29.601949Z",
     "iopub.status.busy": "2021-06-28T21:41:29.601622Z",
     "iopub.status.idle": "2021-06-28T21:41:29.957269Z",
     "shell.execute_reply": "2021-06-28T21:41:29.956236Z",
     "shell.execute_reply.started": "2021-06-28T21:41:29.601912Z"
    },
    "id": "NEiZpFUksIAF",
    "outputId": "2cdc7828-5347-46a9-eec1-83f386aa7065"
   },
   "source": [
    "# evaluate the network\n",
    "print(\"Проверка модели...\")\n",
    "predictions = model.predict(x_test_nn)\n",
    "preds = predictions > 0.5\n",
    "corr_pred = metrics.confusion_matrix(y_test, preds)\n",
    "\n",
    "n_correct = np.uint64((corr_pred[0][0] + corr_pred[1][1]))\n",
    "print('> Correct Predictions:', n_correct)\n",
    "n_wrongs = np.uint((corr_pred[0][1] + (corr_pred[1][0])))\n",
    "print('> Wrong Predictions:', n_wrongs)\n",
    "\n",
    "sns.heatmap(corr_pred, annot=True, fmt=\"d\", cmap=\"Blues\")\n",
    "plt.show()\n",
    "\n",
    "print(metrics.classification_report(y_test, preds,\n",
    "                                    target_names=[\"NonViolence\", \"Violence\"]))"
   ],
   "outputs": [],
   "execution_count": null
  },
  {
   "metadata": {},
   "cell_type": "code",
   "source": [
    "def evaluate_model(_model, _x_test, _y_test, threshold=0.5):\n",
    "    print(\"\\n=== Проверка модели ===\")\n",
    "    _predictions = _model.predict(_x_test, batch_size=64, verbose=1).flatten()\n",
    "    predictions_binary = int(_predictions > threshold)\n",
    "\n",
    "    # Confusion matrix\n",
    "    cm = metrics.confusion_matrix(_y_test, predictions_binary)\n",
    "    correct = np.sum(np.diag(cm))\n",
    "    total = np.sum(cm)\n",
    "\n",
    "    print(f\"> Correct Predictions: {correct}\")\n",
    "    print(f\"> Wrong Predictions: {total - correct}\")\n",
    "    print(\"\\nConfusion Matrix:\")\n",
    "    sns.heatmap(cm, annot=True, fmt='d', cmap='Blues',\n",
    "                xticklabels=[\"NonViolence\", \"Violence\"],\n",
    "                yticklabels=[\"NonViolence\", \"Violence\"])\n",
    "    plt.xlabel('Predicted')\n",
    "    plt.ylabel('True')\n",
    "    plt.title('Confusion Matrix')\n",
    "    plt.show()\n",
    "\n",
    "    print(\"\\nClassification Report:\")\n",
    "    print(metrics.classification_report(_y_test, predictions_binary,\n",
    "                                        target_names=[\"NonViolence\", \"Violence\"]))\n",
    "\n",
    "    auc = metrics.roc_auc_score(_y_test, _predictions)\n",
    "    print(f\"ROC-AUC: {auc:.4f}\")\n",
    "\n",
    "    # ROC Curve\n",
    "    fpr, tpr, _ = metrics.roc_curve(_y_test, _predictions)\n",
    "    plt.figure(figsize=(6, 4))\n",
    "    plt.plot(fpr, tpr, label=f'AUC = {auc:.4f}')\n",
    "    plt.plot([0, 1], [0, 1], linestyle='--', color='gray')\n",
    "    plt.title('ROC Curve')\n",
    "    plt.xlabel('False Positive Rate')\n",
    "    plt.ylabel('True Positive Rate')\n",
    "    plt.legend()\n",
    "    plt.grid(True)\n",
    "    plt.show()\n",
    "\n",
    "\n",
    "evaluate_model(model, x_test_nn, y_test)"
   ],
   "outputs": [],
   "execution_count": null
  },
  {
   "cell_type": "code",
   "metadata": {
    "execution": {
     "iopub.execute_input": "2021-06-27T12:26:57.76156Z",
     "iopub.status.busy": "2021-06-27T12:26:57.761213Z",
     "iopub.status.idle": "2021-06-27T12:26:58.023373Z",
     "shell.execute_reply": "2021-06-27T12:26:58.02252Z",
     "shell.execute_reply.started": "2021-06-27T12:26:57.761526Z"
    },
    "id": "QC4GtxqMtt81"
   },
   "source": "model.save(KERAS_MODEL_FILENAME)",
   "outputs": [],
   "execution_count": null
  }
 ],
 "metadata": {
  "kernelspec": {
   "display_name": "Python 3 (ipykernel)",
   "language": "python",
   "name": "python3"
  },
  "language_info": {
   "codemirror_mode": {
    "name": "ipython",
    "version": 3
   },
   "file_extension": ".py",
   "mimetype": "text/x-python",
   "name": "python",
   "nbconvert_exporter": "python",
   "pygments_lexer": "ipython3",
   "version": "3.9.7"
  },
  "colab": {
   "name": "mobilenetv2-model.ipynb",
   "provenance": []
  }
 },
 "nbformat": 4,
 "nbformat_minor": 0
}
