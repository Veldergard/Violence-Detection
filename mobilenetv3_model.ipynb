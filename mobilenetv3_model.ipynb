{
 "cells": [
  {
   "cell_type": "code",
   "metadata": {
    "execution": {
     "iopub.execute_input": "2021-06-28T21:12:08.176151Z",
     "iopub.status.busy": "2021-06-28T21:12:08.175772Z",
     "iopub.status.idle": "2021-06-28T21:12:08.188567Z",
     "shell.execute_reply": "2021-06-28T21:12:08.187647Z",
     "shell.execute_reply.started": "2021-06-28T21:12:08.176065Z"
    },
    "id": "YMm4qVv5qtGE",
    "outputId": "46034115-6222-4708-e9ef-f7f407130943",
    "ExecuteTime": {
     "end_time": "2025-05-03T01:26:52.663897Z",
     "start_time": "2025-05-03T01:26:52.660898Z"
    }
   },
   "source": [
    "from keras.src.applications.mobilenet_v2 import MobileNetV2\n",
    "\n",
    "from aggr_utils import *\n",
    "\n",
    "print_system_info()"
   ],
   "outputs": [
    {
     "name": "stdout",
     "output_type": "stream",
     "text": [
      "Operating System: Windows-10-10.0.26100-SP0\n",
      "Python version: 3.11.9\n"
     ]
    }
   ],
   "execution_count": 21
  },
  {
   "cell_type": "code",
   "metadata": {
    "execution": {
     "iopub.execute_input": "2021-06-28T21:12:12.539247Z",
     "iopub.status.busy": "2021-06-28T21:12:12.538912Z",
     "iopub.status.idle": "2021-06-28T21:12:18.360385Z",
     "shell.execute_reply": "2021-06-28T21:12:18.359448Z",
     "shell.execute_reply.started": "2021-06-28T21:12:12.539218Z"
    },
    "id": "m77ifGzHqtBg",
    "outputId": "cccebfce-fcbf-4a7d-802b-4de91b6e4772",
    "ExecuteTime": {
     "end_time": "2025-05-03T01:26:54.320633Z",
     "start_time": "2025-05-03T01:26:54.246218Z"
    }
   },
   "source": [
    "import tensorflow as tf\n",
    "\n",
    "tf.random.set_seed(73)\n",
    "TPU_INIT = False\n",
    "\n",
    "if TPU_INIT:\n",
    "    try:\n",
    "        tpu = tf.distribute.cluster_resolver.TPUClusterResolver.connect()\n",
    "        tpu_strategy = tf.distribute.experimental.TPUStrategy(tpu)\n",
    "\n",
    "    except ValueError:\n",
    "        raise BaseException('ERROR: Not connected to a TPU runtime!')\n",
    "else:\n",
    "    !nvidia-smi\n",
    ";\n",
    "print(\"Tensorflow version \" + tf.__version__)"
   ],
   "outputs": [
    {
     "name": "stdout",
     "output_type": "stream",
     "text": [
      "Sat May  3 04:26:54 2025       \n",
      "+-----------------------------------------------------------------------------------------+\n",
      "| NVIDIA-SMI 576.02                 Driver Version: 576.02         CUDA Version: 12.9     |\n",
      "|-----------------------------------------+------------------------+----------------------+\n",
      "| GPU  Name                  Driver-Model | Bus-Id          Disp.A | Volatile Uncorr. ECC |\n",
      "| Fan  Temp   Perf          Pwr:Usage/Cap |           Memory-Usage | GPU-Util  Compute M. |\n",
      "|                                         |                        |               MIG M. |\n",
      "|=========================================+========================+======================|\n",
      "|   0  NVIDIA GeForce RTX 4060 Ti   WDDM  |   00000000:01:00.0  On |                  N/A |\n",
      "|  0%   41C    P8              8W /  160W |    1157MiB /   8188MiB |      1%      Default |\n",
      "|                                         |                        |                  N/A |\n",
      "+-----------------------------------------+------------------------+----------------------+\n",
      "                                                                                         \n",
      "+-----------------------------------------------------------------------------------------+\n",
      "| Processes:                                                                              |\n",
      "|  GPU   GI   CI              PID   Type   Process name                        GPU Memory |\n",
      "|        ID   ID                                                               Usage      |\n",
      "|=========================================================================================|\n",
      "|    0   N/A  N/A            3696    C+G   ...Chrome\\Application\\chrome.exe      N/A      |\n",
      "|    0   N/A  N/A            5040    C+G   ...Telegram Desktop\\Telegram.exe      N/A      |\n",
      "|    0   N/A  N/A            5408    C+G   ...ef.win7x64\\steamwebhelper.exe      N/A      |\n",
      "|    0   N/A  N/A            5708    C+G   ...ntrolPanel\\SystemSettings.exe      N/A      |\n",
      "|    0   N/A  N/A            6020    C+G   ...sional\\jbr\\bin\\cef_server.exe      N/A      |\n",
      "|    0   N/A  N/A            8100    C+G   C:\\Windows\\explorer.exe               N/A      |\n",
      "|    0   N/A  N/A            8172    C+G   ...indows\\System32\\ShellHost.exe      N/A      |\n",
      "|    0   N/A  N/A            9116    C+G   ...onsoftware\\RadeonSoftware.exe      N/A      |\n",
      "|    0   N/A  N/A            9684    C+G   ..._cw5n1h2txyewy\\SearchHost.exe      N/A      |\n",
      "|    0   N/A  N/A            9708    C+G   ...y\\StartMenuExperienceHost.exe      N/A      |\n",
      "|    0   N/A  N/A            9868    C+G   ...5n1h2txyewy\\TextInputHost.exe      N/A      |\n",
      "|    0   N/A  N/A           11204    C+G   ...xyewy\\ShellExperienceHost.exe      N/A      |\n",
      "|    0   N/A  N/A           11488    C+G   ....0.3179.98\\msedgewebview2.exe      N/A      |\n",
      "|    0   N/A  N/A           11692    C+G   ...em32\\ApplicationFrameHost.exe      N/A      |\n",
      "|    0   N/A  N/A           12172    C+G   ...App_cw5n1h2txyewy\\LockApp.exe      N/A      |\n",
      "|    0   N/A  N/A           12676    C+G   ...8bbwe\\PhoneExperienceHost.exe      N/A      |\n",
      "|    0   N/A  N/A           16408    C+G   ...__kzh8wxbdkxb8p\\DCv2\\DCv2.exe      N/A      |\n",
      "+-----------------------------------------------------------------------------------------+\n",
      "Tensorflow version 2.19.0\n"
     ]
    }
   ],
   "execution_count": 22
  },
  {
   "cell_type": "code",
   "metadata": {
    "execution": {
     "iopub.execute_input": "2021-06-28T21:12:26.392432Z",
     "iopub.status.busy": "2021-06-28T21:12:26.392057Z",
     "iopub.status.idle": "2021-06-28T21:12:27.147421Z",
     "shell.execute_reply": "2021-06-28T21:12:27.146411Z",
     "shell.execute_reply.started": "2021-06-28T21:12:26.392397Z"
    },
    "id": "DwRUpYt5qs1l",
    "ExecuteTime": {
     "end_time": "2025-05-02T22:56:19.079196Z",
     "start_time": "2025-05-02T22:56:19.076220Z"
    }
   },
   "source": "PROJECT_DIR = '../datasets/violence'",
   "outputs": [],
   "execution_count": 11
  },
  {
   "cell_type": "markdown",
   "metadata": {
    "id": "xelnEP2OsH_7"
   },
   "source": [
    "## **Препроцессинг**\n",
    "+ **Получение фреймов из видео**\n",
    "+ **Аугментация изображений**"
   ]
  },
  {
   "cell_type": "code",
   "metadata": {
    "execution": {
     "iopub.execute_input": "2021-06-28T21:13:35.503988Z",
     "iopub.status.busy": "2021-06-28T21:13:35.503640Z",
     "iopub.status.idle": "2021-06-28T21:13:37.178990Z",
     "shell.execute_reply": "2021-06-28T21:13:37.178190Z",
     "shell.execute_reply.started": "2021-06-28T21:13:35.503957Z"
    },
    "id": "VNftx0E_sH_9",
    "ExecuteTime": {
     "end_time": "2025-05-03T02:57:44.434942Z",
     "start_time": "2025-05-03T02:57:44.429940Z"
    }
   },
   "source": [
    "import os\n",
    "import imgaug.augmenters as iaa\n",
    "import cv2\n",
    "from keras.api.applications.mobilenet_v3 import preprocess_input\n",
    "\n",
    "IMG_SIZE = 224\n",
    "ColorChannels = 3\n",
    "\n",
    "\n",
    "def video_to_frames(video):\n",
    "    vidcap = cv2.VideoCapture(video)\n",
    "\n",
    "    import math\n",
    "    frame_rate = math.floor(vidcap.get(3))\n",
    "    # Берем 4 кадра в секунду\n",
    "    frames_id_to_analyze = frame_rate // 4\n",
    "    count = 0\n",
    "\n",
    "    ImageFrames = []\n",
    "    while vidcap.isOpened():\n",
    "        frame_id = vidcap.get(1)\n",
    "        success, image = vidcap.read()\n",
    "\n",
    "        if success:\n",
    "            # Пропуск фреймов для того чтобы избежать похожих кадров\n",
    "            if frame_id % frames_id_to_analyze == 0:\n",
    "                flip = iaa.Fliplr(1.0)\n",
    "                zoom = iaa.Affine(scale=1.3)\n",
    "                random_brightness = iaa.Multiply((1, 1.3))\n",
    "                rotate = iaa.Affine(rotate=(-25, 25))\n",
    "\n",
    "                image_aug = flip(image=image)\n",
    "                image_aug = random_brightness(image=image_aug)\n",
    "                image_aug = zoom(image=image_aug)\n",
    "                image_aug = rotate(image=image_aug)\n",
    "                # preprocess_input(image_aug)\n",
    "\n",
    "                rgb_img = cv2.cvtColor(image_aug, cv2.COLOR_BGR2RGB)\n",
    "                resized = cv2.resize(rgb_img, (IMG_SIZE, IMG_SIZE))\n",
    "                ImageFrames.append(resized)\n",
    "\n",
    "            count += 1\n",
    "        else:\n",
    "            break\n",
    "\n",
    "    vidcap.release()\n",
    "\n",
    "    return ImageFrames"
   ],
   "outputs": [],
   "execution_count": 74
  },
  {
   "metadata": {
    "ExecuteTime": {
     "end_time": "2025-05-03T02:57:45.561329Z",
     "start_time": "2025-05-03T02:57:44.598981Z"
    }
   },
   "cell_type": "code",
   "source": [
    "# Тестирование пропроцессинга\n",
    "# from tqdm import tqdm\n",
    "#\n",
    "# VideoDataDir = PROJECT_DIR + '/Real Life Violence Dataset'\n",
    "#\n",
    "# CLASSES = [\"NonViolence\", \"Violence\"]\n",
    "#\n",
    "# for category in os.listdir(VideoDataDir):\n",
    "#     path = os.path.join(VideoDataDir, category)\n",
    "#     class_num = CLASSES.index(category)\n",
    "#     for i, video in enumerate(tqdm(os.listdir(path)[0:5])):\n",
    "#         frames = video_to_frames(path + '/' + video)"
   ],
   "outputs": [
    {
     "name": "stderr",
     "output_type": "stream",
     "text": [
      "100%|██████████| 5/5 [00:00<00:00, 13.87it/s]\n",
      "100%|██████████| 5/5 [00:00<00:00,  8.41it/s]\n"
     ]
    }
   ],
   "execution_count": 75
  },
  {
   "cell_type": "code",
   "metadata": {
    "execution": {
     "iopub.execute_input": "2021-06-28T21:13:41.414231Z",
     "iopub.status.busy": "2021-06-28T21:13:41.413870Z",
     "iopub.status.idle": "2021-06-28T21:17:29.584414Z",
     "shell.execute_reply": "2021-06-28T21:17:29.581822Z",
     "shell.execute_reply.started": "2021-06-28T21:13:41.414198Z"
    },
    "id": "VtjFbXZKsH_-",
    "outputId": "26ea2589-1b55-47d5-947c-7bb5bd21f999",
    "ExecuteTime": {
     "end_time": "2025-05-03T02:58:49.960349Z",
     "start_time": "2025-05-03T02:57:45.576555Z"
    }
   },
   "source": [
    "%%time\n",
    "from tqdm import tqdm\n",
    "\n",
    "VideoDataDir = PROJECT_DIR + '/Real Life Violence Dataset'\n",
    "print('Всего \\n{} Видео с агрессией \\n{} Видео без агрессии'.format(\n",
    "    len(os.listdir(VideoDataDir + '/Violence')),\n",
    "    len(os.listdir(VideoDataDir + '/NonViolence'))))\n",
    "\n",
    "X_original = []\n",
    "y_original = []\n",
    "\n",
    "CLASSES = [\"NonViolence\", \"Violence\"]\n",
    "\n",
    "for category in os.listdir(VideoDataDir):\n",
    "    path = os.path.join(VideoDataDir, category)\n",
    "    class_num = CLASSES.index(category)\n",
    "    for i, video in enumerate(tqdm(os.listdir(path)[0:500])):\n",
    "        frames = video_to_frames(path + '/' + video)\n",
    "        for j, frame in enumerate(frames):\n",
    "            X_original.append(frame)\n",
    "            y_original.append(class_num)"
   ],
   "outputs": [
    {
     "name": "stdout",
     "output_type": "stream",
     "text": [
      "Всего \n",
      "1000 Видео с агрессией \n",
      "1000 Видео без агрессии\n"
     ]
    },
    {
     "name": "stderr",
     "output_type": "stream",
     "text": [
      "100%|██████████| 500/500 [00:19<00:00, 26.00it/s]\n",
      "100%|██████████| 500/500 [00:45<00:00, 11.08it/s]"
     ]
    },
    {
     "name": "stdout",
     "output_type": "stream",
     "text": [
      "CPU times: total: 3min 10s\n",
      "Wall time: 1min 4s\n"
     ]
    },
    {
     "name": "stderr",
     "output_type": "stream",
     "text": [
      "\n"
     ]
    }
   ],
   "execution_count": 76
  },
  {
   "cell_type": "code",
   "metadata": {
    "execution": {
     "iopub.execute_input": "2021-06-28T21:18:34.638320Z",
     "iopub.status.busy": "2021-06-28T21:18:34.637958Z",
     "iopub.status.idle": "2021-06-28T21:18:34.864211Z",
     "shell.execute_reply": "2021-06-28T21:18:34.863222Z",
     "shell.execute_reply.started": "2021-06-28T21:18:34.638286Z"
    },
    "id": "0Knwy2OjsH__",
    "outputId": "53453a2c-9bc7-4210-8736-b89ce5819e15",
    "ExecuteTime": {
     "end_time": "2025-05-03T02:58:50.044263Z",
     "start_time": "2025-05-03T02:58:49.982771Z"
    }
   },
   "source": [
    "import numpy as np\n",
    "\n",
    "X_original = np.array(X_original).reshape(-1, IMG_SIZE * IMG_SIZE * 3)\n",
    "y_original = np.array(y_original)\n",
    "len(X_original)"
   ],
   "outputs": [
    {
     "data": {
      "text/plain": [
       "1870"
      ]
     },
     "execution_count": 77,
     "metadata": {},
     "output_type": "execute_result"
    }
   ],
   "execution_count": 77
  },
  {
   "metadata": {
    "ExecuteTime": {
     "end_time": "2025-05-03T02:58:50.070351Z",
     "start_time": "2025-05-03T02:58:50.068133Z"
    }
   },
   "cell_type": "code",
   "source": "print(X_original.shape)",
   "outputs": [
    {
     "name": "stdout",
     "output_type": "stream",
     "text": [
      "(1870, 150528)\n"
     ]
    }
   ],
   "execution_count": 78
  },
  {
   "cell_type": "code",
   "metadata": {
    "execution": {
     "iopub.execute_input": "2021-06-28T21:18:40.130114Z",
     "iopub.status.busy": "2021-06-28T21:18:40.129780Z",
     "iopub.status.idle": "2021-06-28T21:18:42.322266Z",
     "shell.execute_reply": "2021-06-28T21:18:42.321377Z",
     "shell.execute_reply.started": "2021-06-28T21:18:40.130083Z"
    },
    "id": "ziCGqqa9sIAA",
    "ExecuteTime": {
     "end_time": "2025-05-03T02:58:50.668116Z",
     "start_time": "2025-05-03T02:58:50.087228Z"
    }
   },
   "source": [
    "from sklearn.model_selection import StratifiedShuffleSplit\n",
    "\n",
    "stratified_sample = StratifiedShuffleSplit(n_splits=2, test_size=0.3, random_state=73)\n",
    "\n",
    "for train_index, test_index in stratified_sample.split(X_original, y_original):\n",
    "    X_train, X_test = X_original[train_index], X_original[test_index]\n",
    "    y_train, y_test = y_original[train_index], y_original[test_index]\n",
    "\n",
    "X_train_nn = X_train.reshape(-1, IMG_SIZE, IMG_SIZE, 3) / 255\n",
    "X_test_nn = X_test.reshape(-1, IMG_SIZE, IMG_SIZE, 3) / 255"
   ],
   "outputs": [],
   "execution_count": 79
  },
  {
   "cell_type": "markdown",
   "metadata": {
    "id": "fvmfQMM0p46i"
   },
   "source": [
    "## **Model Training**"
   ]
  },
  {
   "cell_type": "code",
   "metadata": {
    "execution": {
     "iopub.execute_input": "2021-06-28T21:18:46.747492Z",
     "iopub.status.busy": "2021-06-28T21:18:46.747115Z",
     "iopub.status.idle": "2021-06-28T21:18:56.074221Z",
     "shell.execute_reply": "2021-06-28T21:18:56.073342Z",
     "shell.execute_reply.started": "2021-06-28T21:18:46.747463Z"
    },
    "id": "loeXLm9-sIAB"
   },
   "source": [
    "from IPython.display import clear_output\n",
    "\n",
    "clear_output()"
   ],
   "execution_count": 80,
   "outputs": []
  },
  {
   "metadata": {
    "ExecuteTime": {
     "end_time": "2025-05-03T02:58:50.703862Z",
     "start_time": "2025-05-03T02:58:50.701574Z"
    }
   },
   "cell_type": "code",
   "source": "print(IMG_SIZE)",
   "outputs": [
    {
     "name": "stdout",
     "output_type": "stream",
     "text": [
      "224\n"
     ]
    }
   ],
   "execution_count": 81
  },
  {
   "cell_type": "code",
   "metadata": {
    "execution": {
     "iopub.execute_input": "2021-06-28T21:19:00.024214Z",
     "iopub.status.busy": "2021-06-28T21:19:00.023698Z",
     "iopub.status.idle": "2021-06-28T21:19:00.097339Z",
     "shell.execute_reply": "2021-06-28T21:19:00.096328Z",
     "shell.execute_reply.started": "2021-06-28T21:19:00.024167Z"
    },
    "id": "f5SLkPZ2I01J",
    "ExecuteTime": {
     "end_time": "2025-05-03T02:58:50.726062Z",
     "start_time": "2025-05-03T02:58:50.723063Z"
    }
   },
   "source": [
    "import cv2\n",
    "import os\n",
    "import numpy as np\n",
    "import matplotlib\n",
    "\n",
    "matplotlib.use(\"Agg\")\n",
    "\n",
    "from keras.api.layers import Input\n",
    "from keras.api.models import Model\n",
    "from keras.api.layers import Dropout, Flatten, Dense\n",
    "\n",
    "import matplotlib.pyplot as plt"
   ],
   "outputs": [],
   "execution_count": 82
  },
  {
   "cell_type": "code",
   "metadata": {
    "_kg_hide-output": true,
    "execution": {
     "iopub.execute_input": "2021-06-28T21:19:03.585235Z",
     "iopub.status.busy": "2021-06-28T21:19:03.584867Z",
     "iopub.status.idle": "2021-06-28T21:19:06.799324Z",
     "shell.execute_reply": "2021-06-28T21:19:06.798517Z",
     "shell.execute_reply.started": "2021-06-28T21:19:03.585199Z"
    },
    "id": "dNsCZbY3p8VM",
    "outputId": "431b8715-b9d1-4bb0-eb7e-5758027c14ac"
   },
   "source": [
    "epochs = 50\n",
    "\n",
    "from keras import regularizers\n",
    "\n",
    "kernel_regularizer = regularizers.l2(0.0001)\n",
    "\n",
    "from keras.src.applications.mobilenet_v3 import MobileNetV3Large\n",
    "\n",
    "\n",
    "# Total params: 2,259,265 (8.62 MB)\n",
    "#  Trainable params: 1,281 (5.00 KB)\n",
    "#  Non-trainable params: 2,257,984 (8.61 MB)\n",
    "def load_layers():\n",
    "    input_tensor = Input(shape=(IMG_SIZE, IMG_SIZE, ColorChannels))\n",
    "    baseModel = MobileNetV3Large(\n",
    "        pooling='avg',\n",
    "        include_top=False,\n",
    "        input_tensor=input_tensor,\n",
    "        input_shape=(IMG_SIZE, IMG_SIZE, ColorChannels),\n",
    "        weights='imagenet'\n",
    "    )\n",
    "\n",
    "    print(input_tensor)\n",
    "    headModel = Dense(128, activation='relu')(baseModel.output)\n",
    "    headModel = Dropout(0.5)(headModel)\n",
    "    headModel = Dense(1, activation='sigmoid')(headModel)\n",
    "    model = Model(inputs=baseModel.input, outputs=headModel)\n",
    "\n",
    "    for layer in baseModel.layers:\n",
    "        layer.trainable = False\n",
    "\n",
    "    print(\"Compiling model...\")\n",
    "    model.compile(loss=\"binary_crossentropy\",\n",
    "                  optimizer='adam',\n",
    "                  metrics=[\"accuracy\"])\n",
    "\n",
    "    return model\n",
    "\n",
    "\n",
    "if TPU_INIT:\n",
    "    with tpu_strategy.scope():\n",
    "        model = load_layers()\n",
    "else:\n",
    "    model = load_layers()\n",
    "\n",
    "model.summary()"
   ],
   "outputs": [],
   "execution_count": null
  },
  {
   "cell_type": "code",
   "metadata": {
    "execution": {
     "iopub.execute_input": "2021-06-28T21:19:22.163129Z",
     "iopub.status.busy": "2021-06-28T21:19:22.162673Z",
     "iopub.status.idle": "2021-06-28T21:19:22.176337Z",
     "shell.execute_reply": "2021-06-28T21:19:22.175519Z",
     "shell.execute_reply.started": "2021-06-28T21:19:22.163083Z"
    },
    "id": "Ot4-s-9rLwF4",
    "ExecuteTime": {
     "end_time": "2025-05-03T02:58:51.155724Z",
     "start_time": "2025-05-03T02:58:51.152324Z"
    }
   },
   "source": [
    "from keras.api.callbacks import Callback, ModelCheckpoint, LearningRateScheduler, TensorBoard, EarlyStopping, \\\n",
    "    ReduceLROnPlateau\n",
    "\n",
    "patience = 3\n",
    "\n",
    "start_lr = 0.00001\n",
    "min_lr = 0.00001\n",
    "max_lr = 0.00005\n",
    "\n",
    "batch_size = 4\n",
    "\n",
    "if TPU_INIT:\n",
    "    max_lr = max_lr * tpu_strategy.num_replicas_in_sync\n",
    "    batch_size = batch_size * tpu_strategy.num_replicas_in_sync\n",
    "\n",
    "rampup_epochs = 5\n",
    "sustain_epochs = 0\n",
    "exp_decay = .8\n",
    "\n",
    "\n",
    "def lrfn(epoch):\n",
    "    if epoch < rampup_epochs:\n",
    "        return (max_lr - start_lr) / rampup_epochs * epoch + start_lr\n",
    "    elif epoch < rampup_epochs + sustain_epochs:\n",
    "        return max_lr\n",
    "    else:\n",
    "        return (max_lr - min_lr) * exp_decay ** (epoch - rampup_epochs - sustain_epochs) + min_lr\n",
    "\n",
    "\n",
    "class myCallback(Callback):\n",
    "    def on_epoch_end(self, epoch, logs={}):\n",
    "        if ((logs.get('accuracy') >= 0.999)):\n",
    "            print(\"\\nLimits Reached cancelling training!\")\n",
    "            self.model.stop_training = True"
   ],
   "outputs": [],
   "execution_count": 84
  },
  {
   "cell_type": "code",
   "metadata": {
    "execution": {
     "iopub.execute_input": "2021-06-28T21:19:28.031571Z",
     "iopub.status.busy": "2021-06-28T21:19:28.031227Z",
     "iopub.status.idle": "2021-06-28T21:19:28.388810Z",
     "shell.execute_reply": "2021-06-28T21:19:28.387749Z",
     "shell.execute_reply.started": "2021-06-28T21:19:28.031539Z"
    },
    "id": "-OB5GFdDsIAD",
    "ExecuteTime": {
     "end_time": "2025-05-03T02:58:51.182274Z",
     "start_time": "2025-05-03T02:58:51.171231Z"
    }
   },
   "source": [
    "end_callback = myCallback()\n",
    "\n",
    "lr_callback = LearningRateScheduler(lambda epoch: lrfn(epoch), verbose=False)\n",
    "\n",
    "early_stopping = EarlyStopping(patience=patience, monitor='val_loss',\n",
    "                               mode='min', restore_best_weights=True,\n",
    "                               verbose=1, min_delta=.00075)\n",
    "\n",
    "lr_plat = ReduceLROnPlateau(patience=2, mode='min')\n",
    "\n",
    "os.system('rm -rf ./logs/')\n",
    "\n",
    "import datetime\n",
    "\n",
    "log_dir = \"logs/fit/\" + datetime.datetime.now().strftime(\"%Y%m%d-%H%M%S\")\n",
    "tensorboard_callback = TensorBoard(log_dir=log_dir, write_graph=True, histogram_freq=1)\n",
    "\n",
    "checkpoint_filepath = 'ModelV3Weights.weights.h5'\n",
    "\n",
    "model_checkpoints = ModelCheckpoint(filepath=checkpoint_filepath,\n",
    "                                    save_weights_only=True,\n",
    "                                    monitor='val_loss',\n",
    "                                    mode='min',\n",
    "                                    verbose=1,\n",
    "                                    save_best_only=True)\n",
    "\n",
    "callbacks = [end_callback, lr_callback, model_checkpoints, tensorboard_callback, early_stopping, lr_plat]\n",
    "\n",
    "if TPU_INIT:\n",
    "    callbacks = [end_callback, lr_callback, model_checkpoints, early_stopping, lr_plat]"
   ],
   "outputs": [],
   "execution_count": 85
  },
  {
   "cell_type": "code",
   "metadata": {
    "_kg_hide-output": false,
    "execution": {
     "iopub.execute_input": "2021-06-28T21:19:34.188325Z",
     "iopub.status.busy": "2021-06-28T21:19:34.187954Z",
     "iopub.status.idle": "2021-06-28T21:40:04.073914Z",
     "shell.execute_reply": "2021-06-28T21:40:04.073018Z",
     "shell.execute_reply.started": "2021-06-28T21:19:34.188280Z"
    },
    "id": "MDFpuPolFYRc",
    "outputId": "ea444b27-b899-46b5-cc59-fe9ba7de6c9a"
   },
   "source": [
    "print('Training head...')\n",
    "#model.load_weights('./ModelV3Weights.weights.h5')\n",
    "\n",
    "history = model.fit(X_train_nn, y_train, epochs=epochs,\n",
    "                    callbacks=callbacks,\n",
    "                    validation_data=(X_test_nn, y_test),\n",
    "                    batch_size=batch_size)\n",
    "\n",
    "print('\\nRestoring best Weights for MobileNetV3')\n",
    "model.load_weights(checkpoint_filepath)"
   ],
   "outputs": [
    {
     "name": "stdout",
     "output_type": "stream",
     "text": [
      "\u001B[1m327/328\u001B[0m \u001B[32m━━━━━━━━━━━━━━━━━━━\u001B[0m\u001B[37m━\u001B[0m \u001B[1m0s\u001B[0m 17ms/step - accuracy: 0.5934 - loss: 0.6754"
     ]
    }
   ],
   "execution_count": null
  },
  {
   "cell_type": "code",
   "metadata": {
    "execution": {
     "iopub.execute_input": "2021-06-28T21:41:11.914827Z",
     "iopub.status.busy": "2021-06-28T21:41:11.914488Z",
     "iopub.status.idle": "2021-06-28T21:41:11.933416Z",
     "shell.execute_reply": "2021-06-28T21:41:11.932620Z",
     "shell.execute_reply.started": "2021-06-28T21:41:11.914793Z"
    },
    "id": "1s1W3C08sIAE",
    "ExecuteTime": {
     "end_time": "2025-05-03T02:54:32.503918Z",
     "start_time": "2025-05-03T02:54:32.494643Z"
    }
   },
   "source": [
    "%matplotlib inline\n",
    "\n",
    "def print_graph(item, index, history):\n",
    "    plt.figure()\n",
    "    train_values = history.history[item][0:index]\n",
    "    plt.plot(train_values)\n",
    "    test_values = history.history['val_' + item][0:index]\n",
    "    plt.plot(test_values)\n",
    "    plt.legend(['training', 'validation'])\n",
    "    plt.title('Training and validation ' + item)\n",
    "    plt.xlabel('epoch')\n",
    "    plt.show()\n",
    "    plot = '{}.png'.format(item)\n",
    "    plt.savefig(plot)\n",
    "\n",
    "\n",
    "def get_best_epoch(test_loss, history):\n",
    "    for key, item in enumerate(history.history.items()):\n",
    "        (name, arr) = item\n",
    "        if name == 'val_loss':\n",
    "            for i in range(len(arr)):\n",
    "                if round(test_loss, 2) == round(arr[i], 2):\n",
    "                    return i\n",
    "\n",
    "\n",
    "def model_summary(model, history):\n",
    "    print('---' * 30)\n",
    "    test_loss, test_accuracy = model.evaluate(X_test_nn, y_test, verbose=0)\n",
    "\n",
    "    if history:\n",
    "        index = get_best_epoch(test_loss, history)\n",
    "        print('Best Epochs: ', index)\n",
    "\n",
    "        train_accuracy = history.history['accuracy'][index]\n",
    "        train_loss = history.history['loss'][index]\n",
    "\n",
    "        print('Accuracy on train:', train_accuracy, '\\tLoss on train:', train_loss)\n",
    "        print('Accuracy on test:', test_accuracy, '\\tLoss on test:', test_loss)\n",
    "        print_graph('loss', index, history)\n",
    "        print_graph('accuracy', index, history)\n",
    "        print('---' * 30)"
   ],
   "outputs": [],
   "execution_count": 68
  },
  {
   "cell_type": "code",
   "metadata": {
    "execution": {
     "iopub.execute_input": "2021-06-28T21:41:15.265817Z",
     "iopub.status.busy": "2021-06-28T21:41:15.265489Z",
     "iopub.status.idle": "2021-06-28T21:41:18.543465Z",
     "shell.execute_reply": "2021-06-28T21:41:18.542383Z",
     "shell.execute_reply.started": "2021-06-28T21:41:15.265788Z"
    },
    "id": "z4jTgDv7sIAE",
    "outputId": "2159afd8-d667-4ad1-c54c-bf32e4b2465b",
    "ExecuteTime": {
     "end_time": "2025-05-03T02:54:33.328996Z",
     "start_time": "2025-05-03T02:54:32.547929Z"
    }
   },
   "source": [
    "model_summary(model, history)"
   ],
   "outputs": [
    {
     "name": "stdout",
     "output_type": "stream",
     "text": [
      "------------------------------------------------------------------------------------------\n",
      "Best Epochs:  25\n",
      "Accuracy on train: 0.635599672794342 \tLoss on train: 0.6512775421142578\n",
      "Accuracy on test: 0.6524063944816589 \tLoss on test: 0.6412798166275024\n"
     ]
    },
    {
     "data": {
      "text/plain": [
       "<Figure size 640x480 with 1 Axes>"
      ],
      "image/png": "[encoded data removed]"
     },
     "metadata": {},
     "output_type": "display_data"
    },
    {
     "data": {
      "text/plain": [
       "<Figure size 640x480 with 0 Axes>"
      ]
     },
     "metadata": {},
     "output_type": "display_data"
    },
    {
     "data": {
      "text/plain": [
       "<Figure size 640x480 with 1 Axes>"
      ],
      "image/png": "[encoded data removed]"
     },
     "metadata": {},
     "output_type": "display_data"
    },
    {
     "name": "stdout",
     "output_type": "stream",
     "text": [
      "------------------------------------------------------------------------------------------\n"
     ]
    },
    {
     "data": {
      "text/plain": [
       "<Figure size 640x480 with 0 Axes>"
      ]
     },
     "metadata": {},
     "output_type": "display_data"
    }
   ],
   "execution_count": 69
  },
  {
   "cell_type": "markdown",
   "metadata": {
    "id": "e0eSBvicsIAF"
   },
   "source": [
    "## **Evaluation on test set**"
   ]
  },
  {
   "cell_type": "code",
   "metadata": {
    "execution": {
     "iopub.execute_input": "2021-06-28T21:41:25.756227Z",
     "iopub.status.busy": "2021-06-28T21:41:25.755863Z",
     "iopub.status.idle": "2021-06-28T21:41:28.541319Z",
     "shell.execute_reply": "2021-06-28T21:41:28.540479Z",
     "shell.execute_reply.started": "2021-06-28T21:41:25.756189Z"
    },
    "id": "RDJb2EZDtwH2",
    "outputId": "e3685299-469c-40b1-e249-026cfcb2e4e2",
    "ExecuteTime": {
     "end_time": "2025-05-03T02:54:35.036546Z",
     "start_time": "2025-05-03T02:54:33.350464Z"
    }
   },
   "source": [
    "# evaluate the network\n",
    "print(\"Evaluating network...\")\n",
    "predictions = model.predict(X_test_nn)\n",
    "preds = predictions > 0.5"
   ],
   "outputs": [
    {
     "name": "stdout",
     "output_type": "stream",
     "text": [
      "Evaluating network...\n"
     ]
    },
    {
     "name": "stderr",
     "output_type": "stream",
     "text": [
      "C:\\Users\\velde\\PycharmProjects\\PythonProject3\\.venv\\Lib\\site-packages\\keras\\src\\models\\functional.py:238: UserWarning: The structure of `inputs` doesn't match the expected structure.\n",
      "Expected: ['keras_tensor_774']\n",
      "Received: inputs=Tensor(shape=(32, 128, 128, 3))\n",
      "  warnings.warn(msg)\n"
     ]
    },
    {
     "name": "stdout",
     "output_type": "stream",
     "text": [
      "\u001B[1m17/18\u001B[0m \u001B[32m━━━━━━━━━━━━━━━━━━\u001B[0m\u001B[37m━━\u001B[0m \u001B[1m0s\u001B[0m 30ms/step"
     ]
    },
    {
     "name": "stderr",
     "output_type": "stream",
     "text": [
      "C:\\Users\\velde\\PycharmProjects\\PythonProject3\\.venv\\Lib\\site-packages\\keras\\src\\models\\functional.py:238: UserWarning: The structure of `inputs` doesn't match the expected structure.\n",
      "Expected: ['keras_tensor_774']\n",
      "Received: inputs=Tensor(shape=(None, 128, 128, 3))\n",
      "  warnings.warn(msg)\n"
     ]
    },
    {
     "name": "stdout",
     "output_type": "stream",
     "text": [
      "\u001B[1m18/18\u001B[0m \u001B[32m━━━━━━━━━━━━━━━━━━━━\u001B[0m\u001B[37m\u001B[0m \u001B[1m2s\u001B[0m 61ms/step\n"
     ]
    }
   ],
   "execution_count": 70
  },
  {
   "cell_type": "code",
   "metadata": {
    "execution": {
     "iopub.execute_input": "2021-06-28T21:41:29.601949Z",
     "iopub.status.busy": "2021-06-28T21:41:29.601622Z",
     "iopub.status.idle": "2021-06-28T21:41:29.957269Z",
     "shell.execute_reply": "2021-06-28T21:41:29.956236Z",
     "shell.execute_reply.started": "2021-06-28T21:41:29.601912Z"
    },
    "id": "NEiZpFUksIAF",
    "outputId": "2cdc7828-5347-46a9-eec1-83f386aa7065",
    "ExecuteTime": {
     "end_time": "2025-05-03T02:54:35.116572Z",
     "start_time": "2025-05-03T02:54:35.054655Z"
    }
   },
   "source": [
    "import seaborn as sns\n",
    "from sklearn import metrics\n",
    "from sklearn.metrics import roc_curve, roc_auc_score, accuracy_score, classification_report, \\\n",
    "    confusion_matrix\n",
    "\n",
    "corr_pred = metrics.confusion_matrix(y_test, preds)\n",
    "\n",
    "n_correct = np.uint((corr_pred[0][0] + corr_pred[1][1]))\n",
    "print('> Correct Predictions:', n_correct)\n",
    "n_wrongs = np.uint((corr_pred[0][1] + (corr_pred[1][0])))\n",
    "print('> Wrong Predictions:', n_wrongs)\n",
    "\n",
    "sns.heatmap(corr_pred, annot=True, fmt=\"d\", cmap=\"Blues\")\n",
    "plt.show()\n",
    "\n",
    "print(metrics.classification_report(y_test, preds,\n",
    "                                    target_names=[\"NonViolence\", \"Violence\"]))"
   ],
   "outputs": [
    {
     "name": "stdout",
     "output_type": "stream",
     "text": [
      "> Correct Predictions: 366\n",
      "> Wrong Predictions: 195\n"
     ]
    },
    {
     "data": {
      "text/plain": [
       "<Figure size 640x480 with 2 Axes>"
      ],
      "image/png": "[encoded data removed]"
     },
     "metadata": {},
     "output_type": "display_data"
    },
    {
     "name": "stdout",
     "output_type": "stream",
     "text": [
      "              precision    recall  f1-score   support\n",
      "\n",
      " NonViolence       0.63      0.86      0.73       308\n",
      "    Violence       0.70      0.40      0.51       253\n",
      "\n",
      "    accuracy                           0.65       561\n",
      "   macro avg       0.67      0.63      0.62       561\n",
      "weighted avg       0.67      0.65      0.63       561\n",
      "\n"
     ]
    }
   ],
   "execution_count": 71
  },
  {
   "cell_type": "code",
   "metadata": {
    "execution": {
     "iopub.execute_input": "2021-06-27T12:26:57.76156Z",
     "iopub.status.busy": "2021-06-27T12:26:57.761213Z",
     "iopub.status.idle": "2021-06-27T12:26:58.023373Z",
     "shell.execute_reply": "2021-06-27T12:26:58.02252Z",
     "shell.execute_reply.started": "2021-06-27T12:26:57.761526Z"
    },
    "id": "QC4GtxqMtt81",
    "ExecuteTime": {
     "end_time": "2025-05-03T02:54:35.322837Z",
     "start_time": "2025-05-03T02:54:35.142179Z"
    }
   },
   "source": [
    "args_model = \"./my_model_v3.keras\"\n",
    "model.save(args_model)"
   ],
   "outputs": [],
   "execution_count": 72
  },
  {
   "metadata": {
    "ExecuteTime": {
     "end_time": "2025-05-03T02:54:35.338849Z",
     "start_time": "2025-05-03T02:54:35.336488Z"
    }
   },
   "cell_type": "code",
   "source": "",
   "outputs": [],
   "execution_count": null
  },
  {
   "metadata": {
    "ExecuteTime": {
     "end_time": "2025-05-03T02:54:35.358722Z",
     "start_time": "2025-05-03T02:54:35.356259Z"
    }
   },
   "cell_type": "code",
   "source": "",
   "outputs": [],
   "execution_count": null
  },
  {
   "metadata": {},
   "cell_type": "code",
   "outputs": [],
   "execution_count": null,
   "source": ""
  }
 ],
 "metadata": {
  "kernelspec": {
   "display_name": "Python 3 (ipykernel)",
   "language": "python",
   "name": "python3"
  },
  "language_info": {
   "codemirror_mode": {
    "name": "ipython",
    "version": 3
   },
   "file_extension": ".py",
   "mimetype": "text/x-python",
   "name": "python",
   "nbconvert_exporter": "python",
   "pygments_lexer": "ipython3",
   "version": "3.9.7"
  },
  "colab": {
   "name": "mobilenetv2-model.ipynb",
   "provenance": []
  }
 },
 "nbformat": 4,
 "nbformat_minor": 0
}
