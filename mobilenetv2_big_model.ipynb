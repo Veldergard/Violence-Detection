{
 "cells": [
  {
   "cell_type": "code",
   "metadata": {
    "execution": {
     "iopub.execute_input": "2021-06-28T21:12:08.176151Z",
     "iopub.status.busy": "2021-06-28T21:12:08.175772Z",
     "iopub.status.idle": "2021-06-28T21:12:08.188567Z",
     "shell.execute_reply": "2021-06-28T21:12:08.187647Z",
     "shell.execute_reply.started": "2021-06-28T21:12:08.176065Z"
    },
    "id": "YMm4qVv5qtGE",
    "outputId": "46034115-6222-4708-e9ef-f7f407130943",
    "ExecuteTime": {
     "end_time": "2025-05-03T11:43:31.955832Z",
     "start_time": "2025-05-03T11:43:31.952587Z"
    }
   },
   "source": [
    "import platform\n",
    "from IPython.display import clear_output\n",
    "\n",
    "seed = 73\n",
    "print(platform.platform())\n",
    "\n",
    "\n",
    "def resolve_dir(Dir):\n",
    "    if not os.path.exists(Dir):\n",
    "        os.mkdir(Dir)\n",
    "\n",
    "\n",
    "def reset_path(Dir):\n",
    "    if not os.path.exists(Dir):\n",
    "        os.mkdir(Dir)\n",
    "    else:\n",
    "        os.system('rm -f {}/*'.format(Dir))"
   ],
   "outputs": [
    {
     "name": "stdout",
     "output_type": "stream",
     "text": [
      "Windows-10-10.0.26100-SP0\n"
     ]
    }
   ],
   "execution_count": 8
  },
  {
   "cell_type": "code",
   "metadata": {
    "execution": {
     "iopub.execute_input": "2021-06-28T21:12:12.539247Z",
     "iopub.status.busy": "2021-06-28T21:12:12.538912Z",
     "iopub.status.idle": "2021-06-28T21:12:18.360385Z",
     "shell.execute_reply": "2021-06-28T21:12:18.359448Z",
     "shell.execute_reply.started": "2021-06-28T21:12:12.539218Z"
    },
    "id": "m77ifGzHqtBg",
    "outputId": "cccebfce-fcbf-4a7d-802b-4de91b6e4772",
    "ExecuteTime": {
     "end_time": "2025-05-03T11:43:32.065333Z",
     "start_time": "2025-05-03T11:43:31.985844Z"
    }
   },
   "source": [
    "import tensorflow as tf\n",
    "\n",
    "tf.random.set_seed(seed)\n",
    "TPU_INIT = False\n",
    "\n",
    "if TPU_INIT:\n",
    "    try:\n",
    "        tpu = tf.distribute.cluster_resolver.TPUClusterResolver.connect()\n",
    "        tpu_strategy = tf.distribute.experimental.TPUStrategy(tpu)\n",
    "\n",
    "    except ValueError:\n",
    "        raise BaseException('ERROR: Not connected to a TPU runtime!')\n",
    "else:\n",
    "    !nvidia-smi\n",
    ";\n",
    "print(\"Tensorflow version \" + tf.__version__)"
   ],
   "outputs": [
    {
     "name": "stdout",
     "output_type": "stream",
     "text": [
      "Sat May  3 14:43:32 2025       \n",
      "+-----------------------------------------------------------------------------------------+\n",
      "| NVIDIA-SMI 576.02                 Driver Version: 576.02         CUDA Version: 12.9     |\n",
      "|-----------------------------------------+------------------------+----------------------+\n",
      "| GPU  Name                  Driver-Model | Bus-Id          Disp.A | Volatile Uncorr. ECC |\n",
      "| Fan  Temp   Perf          Pwr:Usage/Cap |           Memory-Usage | GPU-Util  Compute M. |\n",
      "|                                         |                        |               MIG M. |\n",
      "|=========================================+========================+======================|\n",
      "|   0  NVIDIA GeForce RTX 4060 Ti   WDDM  |   00000000:01:00.0  On |                  N/A |\n",
      "|  0%   29C    P8              8W /  160W |    1197MiB /   8188MiB |      8%      Default |\n",
      "|                                         |                        |                  N/A |\n",
      "+-----------------------------------------+------------------------+----------------------+\n",
      "                                                                                         \n",
      "+-----------------------------------------------------------------------------------------+\n",
      "| Processes:                                                                              |\n",
      "|  GPU   GI   CI              PID   Type   Process name                        GPU Memory |\n",
      "|        ID   ID                                                               Usage      |\n",
      "|=========================================================================================|\n",
      "|    0   N/A  N/A            3768    C+G   ...indows\\System32\\ShellHost.exe      N/A      |\n",
      "|    0   N/A  N/A            5268    C+G   ...5n1h2txyewy\\TextInputHost.exe      N/A      |\n",
      "|    0   N/A  N/A            6660    C+G   ...Chrome\\Application\\chrome.exe      N/A      |\n",
      "|    0   N/A  N/A            6804    C+G   ...ntrolPanel\\SystemSettings.exe      N/A      |\n",
      "|    0   N/A  N/A            7056    C+G   ...Telegram Desktop\\Telegram.exe      N/A      |\n",
      "|    0   N/A  N/A            8176    C+G   ...adeonsoftware\\AMDRSSrcExt.exe      N/A      |\n",
      "|    0   N/A  N/A            8868    C+G   ...__kzh8wxbdkxb8p\\DCv2\\DCv2.exe      N/A      |\n",
      "|    0   N/A  N/A            9524    C+G   ...onsoftware\\RadeonSoftware.exe      N/A      |\n",
      "|    0   N/A  N/A           12824    C+G   ..._cw5n1h2txyewy\\SearchHost.exe      N/A      |\n",
      "|    0   N/A  N/A           12932    C+G   ...em32\\ApplicationFrameHost.exe      N/A      |\n",
      "|    0   N/A  N/A           13088    C+G   C:\\Windows\\explorer.exe               N/A      |\n",
      "|    0   N/A  N/A           13684    C+G   ...xyewy\\ShellExperienceHost.exe      N/A      |\n",
      "|    0   N/A  N/A           15048    C+G   ...8bbwe\\PhoneExperienceHost.exe      N/A      |\n",
      "|    0   N/A  N/A           15968    C+G   ...App_cw5n1h2txyewy\\LockApp.exe      N/A      |\n",
      "|    0   N/A  N/A           20376    C+G   ...sional\\jbr\\bin\\cef_server.exe      N/A      |\n",
      "|    0   N/A  N/A           20948    C+G   ....0.3179.98\\msedgewebview2.exe      N/A      |\n",
      "|    0   N/A  N/A           21368    C+G   ...y\\StartMenuExperienceHost.exe      N/A      |\n",
      "+-----------------------------------------------------------------------------------------+\n",
      "Tensorflow version 2.19.0\n"
     ]
    }
   ],
   "execution_count": 9
  },
  {
   "cell_type": "code",
   "metadata": {
    "execution": {
     "iopub.execute_input": "2021-06-28T21:12:26.392432Z",
     "iopub.status.busy": "2021-06-28T21:12:26.392057Z",
     "iopub.status.idle": "2021-06-28T21:12:27.147421Z",
     "shell.execute_reply": "2021-06-28T21:12:27.146411Z",
     "shell.execute_reply.started": "2021-06-28T21:12:26.392397Z"
    },
    "id": "DwRUpYt5qs1l",
    "ExecuteTime": {
     "end_time": "2025-05-03T11:43:32.077466Z",
     "start_time": "2025-05-03T11:43:32.075361Z"
    }
   },
   "source": [
    "MyDrive = '/kaggle/working'\n",
    "PROJECT_DIR = '../datasets/violence'"
   ],
   "outputs": [],
   "execution_count": 10
  },
  {
   "cell_type": "markdown",
   "metadata": {
    "id": "xelnEP2OsH_7"
   },
   "source": [
    "## **Preprocessing**\n",
    "+ **Getting frames form video**\n",
    "+ **some image argumentations**"
   ]
  },
  {
   "cell_type": "code",
   "metadata": {
    "execution": {
     "iopub.execute_input": "2021-06-28T21:13:35.503988Z",
     "iopub.status.busy": "2021-06-28T21:13:35.503640Z",
     "iopub.status.idle": "2021-06-28T21:13:37.178990Z",
     "shell.execute_reply": "2021-06-28T21:13:37.178190Z",
     "shell.execute_reply.started": "2021-06-28T21:13:35.503957Z"
    },
    "id": "VNftx0E_sH_9",
    "ExecuteTime": {
     "end_time": "2025-05-03T11:43:32.099335Z",
     "start_time": "2025-05-03T11:43:32.095331Z"
    }
   },
   "source": [
    "import os\n",
    "import imgaug.augmenters as iaa\n",
    "\n",
    "IMG_SIZE = 224\n",
    "ColorChannels = 3\n",
    "\n",
    "\n",
    "def video_to_frames(video):\n",
    "    vidcap = cv2.VideoCapture(video)\n",
    "\n",
    "    import math\n",
    "    rate = math.floor(vidcap.get(3))\n",
    "    count = 0\n",
    "\n",
    "    ImageFrames = []\n",
    "    while vidcap.isOpened():\n",
    "        ID = vidcap.get(1)\n",
    "        success, image = vidcap.read()\n",
    "\n",
    "        if success:\n",
    "            # skipping frames to avoid duplications \n",
    "            if (ID % 7 == 0):\n",
    "                flip = iaa.Fliplr(1.0)\n",
    "                zoom = iaa.Affine(scale=1.3)\n",
    "                random_brightness = iaa.Multiply((1, 1.3))\n",
    "                rotate = iaa.Affine(rotate=(-25, 25))\n",
    "\n",
    "                image_aug = flip(image=image)\n",
    "                image_aug = random_brightness(image=image_aug)\n",
    "                image_aug = zoom(image=image_aug)\n",
    "                image_aug = rotate(image=image_aug)\n",
    "\n",
    "                rgb_img = cv2.cvtColor(image_aug, cv2.COLOR_BGR2RGB)\n",
    "                resized = cv2.resize(rgb_img, (IMG_SIZE, IMG_SIZE))\n",
    "                ImageFrames.append(resized)\n",
    "\n",
    "            count += 1\n",
    "        else:\n",
    "            break\n",
    "\n",
    "    vidcap.release()\n",
    "\n",
    "    return ImageFrames"
   ],
   "outputs": [],
   "execution_count": 11
  },
  {
   "cell_type": "code",
   "metadata": {
    "execution": {
     "iopub.execute_input": "2021-06-28T21:13:41.414231Z",
     "iopub.status.busy": "2021-06-28T21:13:41.413870Z",
     "iopub.status.idle": "2021-06-28T21:17:29.584414Z",
     "shell.execute_reply": "2021-06-28T21:17:29.581822Z",
     "shell.execute_reply.started": "2021-06-28T21:13:41.414198Z"
    },
    "id": "VtjFbXZKsH_-",
    "outputId": "26ea2589-1b55-47d5-947c-7bb5bd21f999",
    "ExecuteTime": {
     "end_time": "2025-05-03T11:45:16.318917Z",
     "start_time": "2025-05-03T11:43:32.119120Z"
    }
   },
   "source": [
    "%%time\n",
    "from tqdm import tqdm\n",
    "import cv2\n",
    "\n",
    "VideoDataDir = PROJECT_DIR + '/Real Life Violence Dataset'\n",
    "print('we have \\n{} Violence videos \\n{} NonViolence videos'.format(\n",
    "    len(os.listdir(VideoDataDir + '/Violence')),\n",
    "    len(os.listdir(VideoDataDir + '/NonViolence'))))\n",
    "\n",
    "X_original = []\n",
    "y_original = []\n",
    "\n",
    "print('i choose 700 videos out of 2000, cuz of memory issue')\n",
    "CLASSES = [\"NonViolence\", \"Violence\"]\n",
    "#700 <- 350 + 350\n",
    "\n",
    "for category in os.listdir(VideoDataDir):\n",
    "    path = os.path.join(VideoDataDir, category)\n",
    "    class_num = CLASSES.index(category)\n",
    "    for i, video in enumerate(tqdm(os.listdir(path)[0:350])):\n",
    "        frames = video_to_frames(path + '/' + video)\n",
    "        for j, frame in enumerate(frames):\n",
    "            X_original.append(frame)\n",
    "            y_original.append(class_num)"
   ],
   "outputs": [
    {
     "name": "stdout",
     "output_type": "stream",
     "text": [
      "we have \n",
      "1000 Violence videos \n",
      "1000 NonViolence videos\n",
      "i choose 700 videos out of 2000, cuz of memory issue\n"
     ]
    },
    {
     "name": "stderr",
     "output_type": "stream",
     "text": [
      "100%|██████████| 350/350 [00:34<00:00, 10.12it/s]\n",
      "100%|██████████| 350/350 [01:09<00:00,  5.03it/s]"
     ]
    },
    {
     "name": "stdout",
     "output_type": "stream",
     "text": [
      "CPU times: total: 6min 32s\n",
      "Wall time: 1min 44s\n"
     ]
    },
    {
     "name": "stderr",
     "output_type": "stream",
     "text": [
      "\n"
     ]
    }
   ],
   "execution_count": 12
  },
  {
   "cell_type": "code",
   "metadata": {
    "execution": {
     "iopub.execute_input": "2021-06-28T21:18:34.638320Z",
     "iopub.status.busy": "2021-06-28T21:18:34.637958Z",
     "iopub.status.idle": "2021-06-28T21:18:34.864211Z",
     "shell.execute_reply": "2021-06-28T21:18:34.863222Z",
     "shell.execute_reply.started": "2021-06-28T21:18:34.638286Z"
    },
    "id": "0Knwy2OjsH__",
    "outputId": "53453a2c-9bc7-4210-8736-b89ce5819e15",
    "ExecuteTime": {
     "end_time": "2025-05-03T11:45:16.865710Z",
     "start_time": "2025-05-03T11:45:16.361955Z"
    }
   },
   "source": [
    "import numpy as np\n",
    "\n",
    "X_original = np.array(X_original).reshape(-1, IMG_SIZE * IMG_SIZE * 3)\n",
    "y_original = np.array(y_original)\n",
    "len(X_original)"
   ],
   "outputs": [
    {
     "data": {
      "text/plain": [
       "13979"
      ]
     },
     "execution_count": 13,
     "metadata": {},
     "output_type": "execute_result"
    }
   ],
   "execution_count": 13
  },
  {
   "cell_type": "code",
   "metadata": {
    "execution": {
     "iopub.execute_input": "2021-06-28T21:18:40.130114Z",
     "iopub.status.busy": "2021-06-28T21:18:40.129780Z",
     "iopub.status.idle": "2021-06-28T21:18:42.322266Z",
     "shell.execute_reply": "2021-06-28T21:18:42.321377Z",
     "shell.execute_reply.started": "2021-06-28T21:18:40.130083Z"
    },
    "id": "ziCGqqa9sIAA",
    "ExecuteTime": {
     "end_time": "2025-05-03T11:45:20.141315Z",
     "start_time": "2025-05-03T11:45:16.874715Z"
    }
   },
   "source": [
    "from sklearn.model_selection import StratifiedShuffleSplit\n",
    "\n",
    "stratified_sample = StratifiedShuffleSplit(n_splits=2, test_size=0.3, random_state=seed)\n",
    "\n",
    "for train_index, test_index in stratified_sample.split(X_original, y_original):\n",
    "    X_train, X_test = X_original[train_index], X_original[test_index]\n",
    "    y_train, y_test = y_original[train_index], y_original[test_index]\n",
    "\n",
    "X_train_nn = X_train.reshape(-1, IMG_SIZE, IMG_SIZE, 3) / 255\n",
    "X_test_nn = X_test.reshape(-1, IMG_SIZE, IMG_SIZE, 3) / 255"
   ],
   "outputs": [],
   "execution_count": 14
  },
  {
   "cell_type": "markdown",
   "metadata": {
    "id": "fvmfQMM0p46i"
   },
   "source": [
    "## **Model Training**"
   ]
  },
  {
   "cell_type": "code",
   "metadata": {
    "execution": {
     "iopub.execute_input": "2021-06-28T21:18:46.747492Z",
     "iopub.status.busy": "2021-06-28T21:18:46.747115Z",
     "iopub.status.idle": "2021-06-28T21:18:56.074221Z",
     "shell.execute_reply": "2021-06-28T21:18:56.073342Z",
     "shell.execute_reply.started": "2021-06-28T21:18:46.747463Z"
    },
    "id": "loeXLm9-sIAB"
   },
   "source": "clear_output()",
   "execution_count": 15,
   "outputs": []
  },
  {
   "metadata": {
    "ExecuteTime": {
     "end_time": "2025-05-03T11:45:20.181628Z",
     "start_time": "2025-05-03T11:45:20.178401Z"
    }
   },
   "cell_type": "code",
   "source": "print(IMG_SIZE)",
   "outputs": [
    {
     "name": "stdout",
     "output_type": "stream",
     "text": [
      "224\n"
     ]
    }
   ],
   "execution_count": 16
  },
  {
   "cell_type": "code",
   "metadata": {
    "execution": {
     "iopub.execute_input": "2021-06-28T21:19:00.024214Z",
     "iopub.status.busy": "2021-06-28T21:19:00.023698Z",
     "iopub.status.idle": "2021-06-28T21:19:00.097339Z",
     "shell.execute_reply": "2021-06-28T21:19:00.096328Z",
     "shell.execute_reply.started": "2021-06-28T21:19:00.024167Z"
    },
    "id": "f5SLkPZ2I01J",
    "ExecuteTime": {
     "end_time": "2025-05-03T11:45:20.203463Z",
     "start_time": "2025-05-03T11:45:20.198153Z"
    }
   },
   "source": [
    "import cv2\n",
    "import os\n",
    "import numpy as np\n",
    "import matplotlib\n",
    "\n",
    "matplotlib.use(\"Agg\")\n",
    "\n",
    "from keras.api.layers import Input\n",
    "from keras.api.models import Model\n",
    "from keras.api.layers import Dropout, Flatten, Dense\n",
    "\n",
    "import matplotlib.pyplot as plt"
   ],
   "outputs": [],
   "execution_count": 17
  },
  {
   "cell_type": "code",
   "metadata": {
    "_kg_hide-output": true,
    "execution": {
     "iopub.execute_input": "2021-06-28T21:19:03.585235Z",
     "iopub.status.busy": "2021-06-28T21:19:03.584867Z",
     "iopub.status.idle": "2021-06-28T21:19:06.799324Z",
     "shell.execute_reply": "2021-06-28T21:19:06.798517Z",
     "shell.execute_reply.started": "2021-06-28T21:19:03.585199Z"
    },
    "id": "dNsCZbY3p8VM",
    "outputId": "431b8715-b9d1-4bb0-eb7e-5758027c14ac"
   },
   "source": [
    "epochs = 50\n",
    "\n",
    "from keras import regularizers\n",
    "\n",
    "kernel_regularizer = regularizers.l2(0.0001)\n",
    "\n",
    "from keras.api.applications.mobilenet_v2 import MobileNetV2\n",
    "\n",
    "\n",
    "def load_layers():\n",
    "    input_tensor = Input(shape=(IMG_SIZE, IMG_SIZE, ColorChannels))\n",
    "    baseModel = MobileNetV2(\n",
    "        pooling='avg',\n",
    "        include_top=False,\n",
    "        input_tensor=input_tensor,\n",
    "        input_shape=(IMG_SIZE, IMG_SIZE, ColorChannels)\n",
    "    )\n",
    "\n",
    "    print(input_tensor)\n",
    "    headModel = baseModel.output\n",
    "    headModel = Dense(1, activation=\"sigmoid\")(headModel)\n",
    "    model = Model(inputs=baseModel.input, outputs=headModel)\n",
    "\n",
    "    for layer in baseModel.layers:\n",
    "        layer.trainable = False\n",
    "\n",
    "    print(\"Compiling model...\")\n",
    "    model.compile(loss=\"binary_crossentropy\",\n",
    "                  optimizer='adam',\n",
    "                  metrics=[\"accuracy\"])\n",
    "\n",
    "    return model\n",
    "\n",
    "\n",
    "if TPU_INIT:\n",
    "    with tpu_strategy.scope():\n",
    "        model = load_layers()\n",
    "else:\n",
    "    model = load_layers()\n",
    "\n",
    "model.summary()"
   ],
   "outputs": [],
   "execution_count": null
  },
  {
   "cell_type": "code",
   "metadata": {
    "execution": {
     "iopub.execute_input": "2021-06-28T21:19:22.163129Z",
     "iopub.status.busy": "2021-06-28T21:19:22.162673Z",
     "iopub.status.idle": "2021-06-28T21:19:22.176337Z",
     "shell.execute_reply": "2021-06-28T21:19:22.175519Z",
     "shell.execute_reply.started": "2021-06-28T21:19:22.163083Z"
    },
    "id": "Ot4-s-9rLwF4",
    "ExecuteTime": {
     "end_time": "2025-05-03T11:45:20.834737Z",
     "start_time": "2025-05-03T11:45:20.830234Z"
    }
   },
   "source": [
    "from keras.api.callbacks import Callback, ModelCheckpoint, LearningRateScheduler, TensorBoard, EarlyStopping, \\\n",
    "    ReduceLROnPlateau\n",
    "\n",
    "patience = 3\n",
    "\n",
    "start_lr = 0.00001\n",
    "min_lr = 0.00001\n",
    "max_lr = 0.00005\n",
    "\n",
    "batch_size = 4\n",
    "\n",
    "if TPU_INIT:\n",
    "    max_lr = max_lr * tpu_strategy.num_replicas_in_sync\n",
    "    batch_size = batch_size * tpu_strategy.num_replicas_in_sync\n",
    "\n",
    "rampup_epochs = 5\n",
    "sustain_epochs = 0\n",
    "exp_decay = .8\n",
    "\n",
    "\n",
    "def lrfn(epoch):\n",
    "    if epoch < rampup_epochs:\n",
    "        return (max_lr - start_lr) / rampup_epochs * epoch + start_lr\n",
    "    elif epoch < rampup_epochs + sustain_epochs:\n",
    "        return max_lr\n",
    "    else:\n",
    "        return (max_lr - min_lr) * exp_decay ** (epoch - rampup_epochs - sustain_epochs) + min_lr\n",
    "\n",
    "\n",
    "class myCallback(Callback):\n",
    "    def on_epoch_end(self, epoch, logs={}):\n",
    "        if ((logs.get('accuracy') >= 0.999)):\n",
    "            print(\"\\nLimits Reached cancelling training!\")\n",
    "            self.model.stop_training = True"
   ],
   "outputs": [],
   "execution_count": 19
  },
  {
   "cell_type": "code",
   "metadata": {
    "execution": {
     "iopub.execute_input": "2021-06-28T21:19:28.031571Z",
     "iopub.status.busy": "2021-06-28T21:19:28.031227Z",
     "iopub.status.idle": "2021-06-28T21:19:28.388810Z",
     "shell.execute_reply": "2021-06-28T21:19:28.387749Z",
     "shell.execute_reply.started": "2021-06-28T21:19:28.031539Z"
    },
    "id": "-OB5GFdDsIAD",
    "ExecuteTime": {
     "end_time": "2025-05-03T11:45:20.879528Z",
     "start_time": "2025-05-03T11:45:20.864753Z"
    }
   },
   "source": [
    "end_callback = myCallback()\n",
    "\n",
    "lr_callback = LearningRateScheduler(lambda epoch: lrfn(epoch), verbose=False)\n",
    "\n",
    "early_stopping = EarlyStopping(patience=patience, monitor='val_loss',\n",
    "                               mode='min', restore_best_weights=True,\n",
    "                               verbose=1, min_delta=.00075)\n",
    "\n",
    "PROJECT_DIR = MyDrive + '/RiskDetection'\n",
    "\n",
    "lr_plat = ReduceLROnPlateau(patience=2, mode='min')\n",
    "\n",
    "os.system('rm -rf ./logs/')\n",
    "\n",
    "import datetime\n",
    "\n",
    "log_dir = \"logs/fit/\" + datetime.datetime.now().strftime(\"%Y%m%d-%H%M%S\")\n",
    "tensorboard_callback = TensorBoard(log_dir=log_dir, write_graph=True, histogram_freq=1)\n",
    "\n",
    "checkpoint_filepath = 'ModelWeights_v2_big.weights.h5'\n",
    "\n",
    "model_checkpoints = ModelCheckpoint(filepath=checkpoint_filepath,\n",
    "                                    save_weights_only=True,\n",
    "                                    monitor='val_loss',\n",
    "                                    mode='min',\n",
    "                                    verbose=1,\n",
    "                                    save_best_only=True)\n",
    "\n",
    "callbacks = [end_callback, lr_callback, model_checkpoints, tensorboard_callback, early_stopping, lr_plat]\n",
    "\n",
    "if TPU_INIT:\n",
    "    callbacks = [end_callback, lr_callback, model_checkpoints, early_stopping, lr_plat]"
   ],
   "outputs": [],
   "execution_count": 20
  },
  {
   "cell_type": "code",
   "metadata": {
    "_kg_hide-output": false,
    "execution": {
     "iopub.execute_input": "2021-06-28T21:19:34.188325Z",
     "iopub.status.busy": "2021-06-28T21:19:34.187954Z",
     "iopub.status.idle": "2021-06-28T21:40:04.073914Z",
     "shell.execute_reply": "2021-06-28T21:40:04.073018Z",
     "shell.execute_reply.started": "2021-06-28T21:19:34.188280Z"
    },
    "id": "MDFpuPolFYRc",
    "outputId": "ea444b27-b899-46b5-cc59-fe9ba7de6c9a"
   },
   "source": [
    "print('Training head...')\n",
    "#model.load_weights('./ModelWeights_v2_big.weights.h5')\n",
    "\n",
    "history = model.fit(X_train_nn, y_train, epochs=epochs,\n",
    "                    callbacks=callbacks,\n",
    "                    validation_data=(X_test_nn, y_test),\n",
    "                    batch_size=batch_size)\n",
    "\n",
    "print('\\nRestoring best Weights for MobileNetV2')\n",
    "model.load_weights(checkpoint_filepath)"
   ],
   "outputs": [
    {
     "name": "stdout",
     "output_type": "stream",
     "text": [
      "\u001B[1m2445/2447\u001B[0m \u001B[32m━━━━━━━━━━━━━━━━━━━\u001B[0m\u001B[37m━\u001B[0m \u001B[1m0s\u001B[0m 21ms/step - accuracy: 0.9695 - loss: 0.0939\n",
      "Epoch 47: val_loss improved from 0.11176 to 0.11129, saving model to ModelWeights_v2_big.weights.h5\n",
      "\u001B[1m2447/2447\u001B[0m \u001B[32m━━━━━━━━━━━━━━━━━━━━\u001B[0m\u001B[37m\u001B[0m \u001B[1m73s\u001B[0m 30ms/step - accuracy: 0.9695 - loss: 0.0939 - val_accuracy: 0.9602 - val_loss: 0.1113 - learning_rate: 1.0004e-05\n",
      "Epoch 48/50\n",
      "\u001B[1m2447/2447\u001B[0m \u001B[32m━━━━━━━━━━━━━━━━━━━━\u001B[0m\u001B[37m\u001B[0m \u001B[1m0s\u001B[0m 22ms/step - accuracy: 0.9695 - loss: 0.0934\n",
      "Epoch 48: val_loss improved from 0.11129 to 0.11083, saving model to ModelWeights_v2_big.weights.h5\n",
      "\u001B[1m2447/2447\u001B[0m \u001B[32m━━━━━━━━━━━━━━━━━━━━\u001B[0m\u001B[37m\u001B[0m \u001B[1m75s\u001B[0m 31ms/step - accuracy: 0.9695 - loss: 0.0934 - val_accuracy: 0.9604 - val_loss: 0.1108 - learning_rate: 1.0003e-05\n",
      "Epoch 49/50\n",
      "\u001B[1m2447/2447\u001B[0m \u001B[32m━━━━━━━━━━━━━━━━━━━━\u001B[0m\u001B[37m\u001B[0m \u001B[1m0s\u001B[0m 22ms/step - accuracy: 0.9695 - loss: 0.0928\n",
      "Epoch 49: val_loss improved from 0.11083 to 0.11039, saving model to ModelWeights_v2_big.weights.h5\n",
      "\u001B[1m2447/2447\u001B[0m \u001B[32m━━━━━━━━━━━━━━━━━━━━\u001B[0m\u001B[37m\u001B[0m \u001B[1m76s\u001B[0m 31ms/step - accuracy: 0.9695 - loss: 0.0928 - val_accuracy: 0.9607 - val_loss: 0.1104 - learning_rate: 1.0003e-05\n",
      "Epoch 50/50\n",
      "\u001B[1m2445/2447\u001B[0m \u001B[32m━━━━━━━━━━━━━━━━━━━\u001B[0m\u001B[37m━\u001B[0m \u001B[1m0s\u001B[0m 22ms/step - accuracy: 0.9703 - loss: 0.0923\n",
      "Epoch 50: val_loss improved from 0.11039 to 0.10994, saving model to ModelWeights_v2_big.weights.h5\n",
      "\u001B[1m2447/2447\u001B[0m \u001B[32m━━━━━━━━━━━━━━━━━━━━\u001B[0m\u001B[37m\u001B[0m \u001B[1m77s\u001B[0m 31ms/step - accuracy: 0.9703 - loss: 0.0923 - val_accuracy: 0.9607 - val_loss: 0.1099 - learning_rate: 1.0002e-05\n",
      "Restoring model weights from the end of the best epoch: 49.\n",
      "\n",
      "Restoring best Weights for MobileNetV2\n"
     ]
    }
   ],
   "execution_count": 21
  },
  {
   "cell_type": "code",
   "metadata": {
    "execution": {
     "iopub.execute_input": "2021-06-28T21:41:11.914827Z",
     "iopub.status.busy": "2021-06-28T21:41:11.914488Z",
     "iopub.status.idle": "2021-06-28T21:41:11.933416Z",
     "shell.execute_reply": "2021-06-28T21:41:11.932620Z",
     "shell.execute_reply.started": "2021-06-28T21:41:11.914793Z"
    },
    "id": "1s1W3C08sIAE",
    "ExecuteTime": {
     "end_time": "2025-05-03T12:44:20.166090Z",
     "start_time": "2025-05-03T12:44:20.151724Z"
    }
   },
   "source": [
    "%matplotlib inline\n",
    "\n",
    "def print_graph(item, index, history):\n",
    "    plt.figure()\n",
    "    train_values = history.history[item][0:index]\n",
    "    plt.plot(train_values)\n",
    "    test_values = history.history['val_' + item][0:index]\n",
    "    plt.plot(test_values)\n",
    "    plt.legend(['training', 'validation'])\n",
    "    plt.title('Training and validation ' + item)\n",
    "    plt.xlabel('epoch')\n",
    "    plt.show()\n",
    "    plot = '{}.png'.format(item)\n",
    "    plt.savefig(plot)\n",
    "\n",
    "\n",
    "def get_best_epoch(test_loss, history):\n",
    "    for key, item in enumerate(history.history.items()):\n",
    "        (name, arr) = item\n",
    "        if name == 'val_loss':\n",
    "            for i in range(len(arr)):\n",
    "                if round(test_loss, 2) == round(arr[i], 2):\n",
    "                    return i\n",
    "\n",
    "\n",
    "def model_summary(model, history):\n",
    "    print('---' * 30)\n",
    "    test_loss, test_accuracy = model.evaluate(X_test_nn, y_test, verbose=0)\n",
    "\n",
    "    if history:\n",
    "        index = get_best_epoch(test_loss, history)\n",
    "        print('Best Epochs: ', index)\n",
    "\n",
    "        train_accuracy = history.history['accuracy'][index]\n",
    "        train_loss = history.history['loss'][index]\n",
    "\n",
    "        print('Accuracy on train:', train_accuracy, '\\tLoss on train:', train_loss)\n",
    "        print('Accuracy on test:', test_accuracy, '\\tLoss on test:', test_loss)\n",
    "        print_graph('loss', index, history)\n",
    "        print_graph('accuracy', index, history)\n",
    "        print('---' * 30)"
   ],
   "outputs": [],
   "execution_count": 22
  },
  {
   "cell_type": "code",
   "metadata": {
    "execution": {
     "iopub.execute_input": "2021-06-28T21:41:15.265817Z",
     "iopub.status.busy": "2021-06-28T21:41:15.265489Z",
     "iopub.status.idle": "2021-06-28T21:41:18.543465Z",
     "shell.execute_reply": "2021-06-28T21:41:18.542383Z",
     "shell.execute_reply.started": "2021-06-28T21:41:15.265788Z"
    },
    "id": "z4jTgDv7sIAE",
    "outputId": "2159afd8-d667-4ad1-c54c-bf32e4b2465b",
    "ExecuteTime": {
     "end_time": "2025-05-03T12:44:39.671806Z",
     "start_time": "2025-05-03T12:44:20.194685Z"
    }
   },
   "source": [
    "model_summary(model, history)"
   ],
   "outputs": [
    {
     "name": "stdout",
     "output_type": "stream",
     "text": [
      "------------------------------------------------------------------------------------------\n",
      "Best Epochs:  39\n",
      "Accuracy on train: 0.968829870223999 \tLoss on train: 0.09817807376384735\n",
      "Accuracy on test: 0.960658073425293 \tLoss on test: 0.10994482040405273\n"
     ]
    },
    {
     "data": {
      "text/plain": [
       "<Figure size 640x480 with 1 Axes>"
      ],
      "image/png": "[encoded data removed]"
     },
     "metadata": {},
     "output_type": "display_data"
    },
    {
     "data": {
      "text/plain": [
       "<Figure size 640x480 with 0 Axes>"
      ]
     },
     "metadata": {},
     "output_type": "display_data"
    },
    {
     "data": {
      "text/plain": [
       "<Figure size 640x480 with 1 Axes>"
      ],
      "image/png": "[encoded data removed]"
     },
     "metadata": {},
     "output_type": "display_data"
    },
    {
     "name": "stdout",
     "output_type": "stream",
     "text": [
      "------------------------------------------------------------------------------------------\n"
     ]
    },
    {
     "data": {
      "text/plain": [
       "<Figure size 640x480 with 0 Axes>"
      ]
     },
     "metadata": {},
     "output_type": "display_data"
    }
   ],
   "execution_count": 23
  },
  {
   "cell_type": "markdown",
   "metadata": {
    "id": "e0eSBvicsIAF"
   },
   "source": [
    "## **Evaluation on test set**"
   ]
  },
  {
   "cell_type": "code",
   "metadata": {
    "execution": {
     "iopub.execute_input": "2021-06-28T21:41:25.756227Z",
     "iopub.status.busy": "2021-06-28T21:41:25.755863Z",
     "iopub.status.idle": "2021-06-28T21:41:28.541319Z",
     "shell.execute_reply": "2021-06-28T21:41:28.540479Z",
     "shell.execute_reply.started": "2021-06-28T21:41:25.756189Z"
    },
    "id": "RDJb2EZDtwH2",
    "outputId": "e3685299-469c-40b1-e249-026cfcb2e4e2",
    "ExecuteTime": {
     "end_time": "2025-05-03T12:44:59.872686Z",
     "start_time": "2025-05-03T12:44:39.697852Z"
    }
   },
   "source": [
    "# evaluate the network\n",
    "print(\"Evaluating network...\")\n",
    "predictions = model.predict(X_test_nn)\n",
    "preds = predictions > 0.5"
   ],
   "outputs": [
    {
     "name": "stdout",
     "output_type": "stream",
     "text": [
      "Evaluating network...\n"
     ]
    },
    {
     "name": "stderr",
     "output_type": "stream",
     "text": [
      "C:\\Users\\velde\\PycharmProjects\\PythonProject3\\.venv\\Lib\\site-packages\\keras\\src\\models\\functional.py:238: UserWarning: The structure of `inputs` doesn't match the expected structure.\n",
      "Expected: ['keras_tensor']\n",
      "Received: inputs=Tensor(shape=(32, 224, 224, 3))\n",
      "  warnings.warn(msg)\n"
     ]
    },
    {
     "name": "stdout",
     "output_type": "stream",
     "text": [
      "\u001B[1m131/132\u001B[0m \u001B[32m━━━━━━━━━━━━━━━━━━━\u001B[0m\u001B[37m━\u001B[0m \u001B[1m0s\u001B[0m 140ms/step"
     ]
    },
    {
     "name": "stderr",
     "output_type": "stream",
     "text": [
      "C:\\Users\\velde\\PycharmProjects\\PythonProject3\\.venv\\Lib\\site-packages\\keras\\src\\models\\functional.py:238: UserWarning: The structure of `inputs` doesn't match the expected structure.\n",
      "Expected: ['keras_tensor']\n",
      "Received: inputs=Tensor(shape=(None, 224, 224, 3))\n",
      "  warnings.warn(msg)\n"
     ]
    },
    {
     "name": "stdout",
     "output_type": "stream",
     "text": [
      "\u001B[1m132/132\u001B[0m \u001B[32m━━━━━━━━━━━━━━━━━━━━\u001B[0m\u001B[37m\u001B[0m \u001B[1m19s\u001B[0m 143ms/step\n"
     ]
    }
   ],
   "execution_count": 24
  },
  {
   "cell_type": "code",
   "metadata": {
    "execution": {
     "iopub.execute_input": "2021-06-28T21:41:29.601949Z",
     "iopub.status.busy": "2021-06-28T21:41:29.601622Z",
     "iopub.status.idle": "2021-06-28T21:41:29.957269Z",
     "shell.execute_reply": "2021-06-28T21:41:29.956236Z",
     "shell.execute_reply.started": "2021-06-28T21:41:29.601912Z"
    },
    "id": "NEiZpFUksIAF",
    "outputId": "2cdc7828-5347-46a9-eec1-83f386aa7065",
    "ExecuteTime": {
     "end_time": "2025-05-03T12:44:59.946939Z",
     "start_time": "2025-05-03T12:44:59.889119Z"
    }
   },
   "source": [
    "import seaborn as sns\n",
    "from sklearn import metrics\n",
    "from sklearn.metrics import roc_curve, roc_auc_score, accuracy_score, classification_report, \\\n",
    "    confusion_matrix\n",
    "\n",
    "corr_pred = metrics.confusion_matrix(y_test, preds)\n",
    "\n",
    "n_correct = np.uint((corr_pred[0][0] + corr_pred[1][1]))\n",
    "print('> Correct Predictions:', n_correct)\n",
    "n_wrongs = np.uint((corr_pred[0][1] + (corr_pred[1][0])))\n",
    "print('> Wrong Predictions:', n_wrongs)\n",
    "\n",
    "sns.heatmap(corr_pred, annot=True, fmt=\"d\", cmap=\"Blues\")\n",
    "plt.show()\n",
    "\n",
    "print(metrics.classification_report(y_test, preds,\n",
    "                                    target_names=[\"NonViolence\", \"Violence\"]))"
   ],
   "outputs": [
    {
     "name": "stdout",
     "output_type": "stream",
     "text": [
      "> Correct Predictions: 4029\n",
      "> Wrong Predictions: 165\n"
     ]
    },
    {
     "data": {
      "text/plain": [
       "<Figure size 640x480 with 2 Axes>"
      ],
      "image/png": "[encoded data removed]"
     },
     "metadata": {},
     "output_type": "display_data"
    },
    {
     "name": "stdout",
     "output_type": "stream",
     "text": [
      "              precision    recall  f1-score   support\n",
      "\n",
      " NonViolence       0.96      0.95      0.95      1778\n",
      "    Violence       0.96      0.97      0.97      2416\n",
      "\n",
      "    accuracy                           0.96      4194\n",
      "   macro avg       0.96      0.96      0.96      4194\n",
      "weighted avg       0.96      0.96      0.96      4194\n",
      "\n"
     ]
    }
   ],
   "execution_count": 25
  },
  {
   "cell_type": "code",
   "metadata": {
    "execution": {
     "iopub.execute_input": "2021-06-27T12:26:57.76156Z",
     "iopub.status.busy": "2021-06-27T12:26:57.761213Z",
     "iopub.status.idle": "2021-06-27T12:26:58.023373Z",
     "shell.execute_reply": "2021-06-27T12:26:58.02252Z",
     "shell.execute_reply.started": "2021-06-27T12:26:57.761526Z"
    },
    "id": "QC4GtxqMtt81",
    "ExecuteTime": {
     "end_time": "2025-05-03T12:45:00.133439Z",
     "start_time": "2025-05-03T12:44:59.972683Z"
    }
   },
   "source": [
    "args_model = \"./my_model_v2_big.keras\"\n",
    "model.save(args_model)"
   ],
   "outputs": [],
   "execution_count": 26
  }
 ],
 "metadata": {
  "kernelspec": {
   "display_name": "Python 3 (ipykernel)",
   "language": "python",
   "name": "python3"
  },
  "language_info": {
   "codemirror_mode": {
    "name": "ipython",
    "version": 3
   },
   "file_extension": ".py",
   "mimetype": "text/x-python",
   "name": "python",
   "nbconvert_exporter": "python",
   "pygments_lexer": "ipython3",
   "version": "3.9.7"
  },
  "colab": {
   "name": "mobilenetv2-model.ipynb",
   "provenance": []
  }
 },
 "nbformat": 4,
 "nbformat_minor": 0
}
